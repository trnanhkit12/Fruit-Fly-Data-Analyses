{
 "cells": [
  {
   "cell_type": "code",
   "execution_count": 5,
   "id": "b4bde444",
   "metadata": {},
   "outputs": [
    {
     "ename": "NameError",
     "evalue": "name 'df' is not defined",
     "output_type": "error",
     "traceback": [
      "\u001b[1;31m---------------------------------------------------------------------------\u001b[0m",
      "\u001b[1;31mNameError\u001b[0m                                 Traceback (most recent call last)",
      "\u001b[1;32m~\\AppData\\Local\\Temp\\ipykernel_36568\\1215940698.py\u001b[0m in \u001b[0;36m<module>\u001b[1;34m\u001b[0m\n\u001b[0;32m     27\u001b[0m \u001b[1;33m\u001b[0m\u001b[0m\n\u001b[0;32m     28\u001b[0m \u001b[1;33m\u001b[0m\u001b[0m\n\u001b[1;32m---> 29\u001b[1;33m \u001b[0mdf\u001b[0m \u001b[1;33m=\u001b[0m \u001b[0mdf\u001b[0m\u001b[1;33m.\u001b[0m\u001b[0mreset_index\u001b[0m\u001b[1;33m(\u001b[0m\u001b[1;33m)\u001b[0m\u001b[1;33m\u001b[0m\u001b[1;33m\u001b[0m\u001b[0m\n\u001b[0m\u001b[0;32m     30\u001b[0m \u001b[0msb\u001b[0m\u001b[1;33m.\u001b[0m\u001b[0mrender_state\u001b[0m\u001b[1;33m(\u001b[0m\u001b[0mdf\u001b[0m\u001b[1;33m,\u001b[0m \u001b[0mreturn_as\u001b[0m\u001b[1;33m=\u001b[0m\u001b[1;34m'html'\u001b[0m\u001b[1;33m)\u001b[0m\u001b[1;33m\u001b[0m\u001b[1;33m\u001b[0m\u001b[0m\n",
      "\u001b[1;31mNameError\u001b[0m: name 'df' is not defined"
     ]
    }
   ],
   "source": [
    "from nglui.statebuilder import *\n",
    "\n",
    "img_source = client.info.image_source()\n",
    "img_layer = ImageLayerConfig(name='fanc_imagery',\n",
    "                             source=img_source,\n",
    "                             )\n",
    "seg_source = client.info.segmentation_source()\n",
    "seg_layer = SegmentationLayerConfig(name = 'fanc_seg',\n",
    "                                    source = seg_source,\n",
    "                                   selected_ids_column = 'post_pt_root_id')\n",
    "\n",
    "\n",
    "points = PointMapper(point_column='post_pt', linked_segmentation_column = 'post_pt_root_id')\n",
    "anno_layer = AnnotationLayerConfig(name='soma_annos',\n",
    "                                   mapping_rules=points )\n",
    "\n",
    "\n",
    "sb = StateBuilder([img_layer, seg_layer, anno_layer], resolution=[4.3,4.3,45])\n",
    "\n",
    "\n",
    "\n",
    "\n",
    "\n",
    "df = df.reset_index()\n",
    "sb.render_state(df, return_as='html')"
   ]
  },
  {
   "cell_type": "code",
   "execution_count": null,
   "id": "fc9bb622",
   "metadata": {},
   "outputs": [],
   "source": []
  }
 ],
 "metadata": {
  "kernelspec": {
   "display_name": "Python 3 (ipykernel)",
   "language": "python",
   "name": "python3"
  },
  "language_info": {
   "codemirror_mode": {
    "name": "ipython",
    "version": 3
   },
   "file_extension": ".py",
   "mimetype": "text/x-python",
   "name": "python",
   "nbconvert_exporter": "python",
   "pygments_lexer": "ipython3",
   "version": "3.7.13"
  }
 },
 "nbformat": 4,
 "nbformat_minor": 5
}
