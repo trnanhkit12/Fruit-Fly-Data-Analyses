{
 "cells": [
  {
   "cell_type": "code",
   "execution_count": 1,
   "id": "b5cd366b",
   "metadata": {},
   "outputs": [],
   "source": [
    "# This notebook allows visualization of the downstream/upstream/recurrence proportionality in number of connections, or number\n",
    "# of synapses for the pt_root_ids of interest in stacked bar charts or in percent stacked bar charts."
   ]
  },
  {
   "cell_type": "code",
   "execution_count": 2,
   "id": "a63ef35b",
   "metadata": {},
   "outputs": [],
   "source": [
    "from caveclient import CAVEclient\n",
    "import pandas as pd\n",
    "import numpy as np\n",
    "import os\n",
    "import matplotlib.pyplot as plt\n",
    "import seaborn as sns\n",
    "from matplotlib import pyplot\n",
    "from IPython.core.debugger import set_trace\n",
    "import math\n",
    "import matplotlib.pyplot as plt\n",
    "import matplotlib.patches as mpatches\n",
    "from sklearn.metrics.pairwise import cosine_similarity\n",
    "from scipy.cluster.hierarchy import dendrogram\n",
    "from sklearn.cluster import AgglomerativeClustering\n",
    "import networkx as nx\n",
    "pd.set_option('display.float_format', lambda x: '%.0f' % x)"
   ]
  },
  {
   "cell_type": "code",
   "execution_count": 3,
   "id": "fa293449",
   "metadata": {},
   "outputs": [],
   "source": [
    "client = CAVEclient()\n",
    "datastack_name = 'fanc_production_mar2021'\n",
    "client = CAVEclient(datastack_name)"
   ]
  },
  {
   "cell_type": "markdown",
   "id": "515bcd71",
   "metadata": {},
   "source": [
    "# List of Functions to be used (not all)\n",
    "i.e. get_count_connections, "
   ]
  },
  {
   "cell_type": "code",
   "execution_count": 20,
   "id": "507d4287",
   "metadata": {},
   "outputs": [],
   "source": [
    "# for partner in partners\n",
    "    # if partner has postsynaptic partner as tactile or gustatory\n",
    "        # partner is upstream of tactile or gustatory\n",
    "    # if partner has presynaptic partner as tactile or gustatory\n",
    "        # partner is downstream of tactile or gustatory\n",
    "    # if partner is both postsynaptic and presynaptic of tactile or gustatory\n",
    "        # partner is recurrent of tactile or gustatory\n",
    "def check_partners(dwn_lst, up_lst,partner_lst):\n",
    "    dct = {partner_lst[i]: 'None' for i in range(0, len(partner_lst))}\n",
    "    for partner in dct:\n",
    "        # check dwn_lst\n",
    "        # if pt_root_id of partner is in dwn_lst --> downstream partner\n",
    "        if partner in dwn_lst:\n",
    "            dct[partner] = 'downstream'\n",
    "        # check up_df\n",
    "        # if pt_root_id of partner is in up_lst --> upstream partner\n",
    "        if partner in up_lst:\n",
    "            dct[partner] = 'upstream'\n",
    "        # check both\n",
    "        # if pt_root_id of partner is in both --> recurrent\n",
    "        if partner in dwn_lst and partner in up_lst:\n",
    "            dct[partner] = 'recurrent' \n",
    "    return dct  \n",
    "\n",
    "# get partners ids (down/up) of the given list of pt_root_ids\n",
    "def check_partners_individual(pt_root_ids, queried_ids = 'bristle_pt_root_id'):\n",
    "    # query for upstream and downstream partners\n",
    "    upstream_table = client.materialize.synapse_query(post_ids=pt_root_ids)\n",
    "    downstream_table = client.materialize.synapse_query(pre_ids=pt_root_ids)\n",
    "    \n",
    "    # get uplist through obtaining pre_pt_root_id of its table and dwnlist through post_pt_root_id of its table\n",
    "    uplist = upstream_table['pre_pt_root_id'].unique()\n",
    "    downlist = downstream_table['post_pt_root_id'].unique()\n",
    "    \n",
    "    # append another column of bristle and partner pt_root_id\n",
    "    upstream_table['partner_pt_root_id'] = upstream_table['pre_pt_root_id']\n",
    "    upstream_table[queried_ids] = upstream_table['post_pt_root_id']\n",
    "    downstream_table['partner_pt_root_id'] = downstream_table['post_pt_root_id']\n",
    "    downstream_table[queried_ids] = downstream_table['pre_pt_root_id']\n",
    "    \n",
    "    # concat the tables\n",
    "    df = pd.concat([upstream_table, downstream_table], axis=0)\n",
    "    # concat up and dwn list for partner list\n",
    "    partner_lst = [*set(np.concatenate([uplist,downlist], axis=0))]\n",
    "    \n",
    "    # use check_partners to obtain mapping dct for each partner\n",
    "    dct = check_partners(downlist, uplist, partner_lst=partner_lst)\n",
    "    \n",
    "    # map each partner to the mapping dct\n",
    "    df['label'] = df['partner_pt_root_id'].map(dct)\n",
    "    return df\n",
    "\n",
    "# Gets order as a list by cosine similarity\n",
    "# sim_mat is a matrix of cosine_similarity(conn_mat) where conn_mat is a pre by post np.array\n",
    "# of the number of connections between pre and post_pt_root_id\n",
    "def get_clustered_order(sim_mat, distance_threshold = 0, \n",
    "                       n_clusters = None, **kwargs):\n",
    "    \n",
    "    model = AgglomerativeClustering(distance_threshold=distance_threshold, n_clusters=None).fit(sim_mat)\n",
    "    # create the counts of samples under each node\n",
    "    counts = np.zeros(model.children_.shape[0])\n",
    "    n_samples = len(model.labels_)\n",
    "    for i, merge in enumerate(model.children_):\n",
    "        current_count = 0\n",
    "        for child_idx in merge:\n",
    "            if child_idx < n_samples:\n",
    "                current_count += 1  # leaf node\n",
    "            else:\n",
    "                current_count += counts[child_idx - n_samples]\n",
    "        counts[i] = current_count\n",
    "\n",
    "    linkage_matrix = np.column_stack(\n",
    "        [model.children_, model.distances_, counts]\n",
    "    ).astype(float)\n",
    "\n",
    "    # Plot the corresponding dendrogram\n",
    "    dendrogram(linkage_matrix, **kwargs)\n",
    "    dend_dict = dendrogram(linkage_matrix, **kwargs)\n",
    "    \n",
    "    # sorted order of indices found through clustering\n",
    "    clustered_order = dend_dict['ivl']\n",
    "    \n",
    "    parsed_order = []\n",
    "    for c in clustered_order:\n",
    "        if '(' in c:\n",
    "            c = c.split('(')[1]\n",
    "            c = c.split(')')[0]\n",
    "        parsed_order.append(int(c))\n",
    "    \n",
    "    return parsed_order\n",
    "\n",
    "# choice=1 for downstream connection order, choice=2 for upstream connection order\n",
    "# edges are required to know which directionality you want the pt_root_ids to be arranged by\n",
    "# df_edges is the total df_edges that has label of 'upstream/downstream/recurrent' coresponding to the partners\n",
    "# bins are the number of pt_root_ids\n",
    "# hue are the labels with which the proportionality is drawn for\n",
    "# title is the title of the produced bar graph\n",
    "def sns_hist_cos_sim(edges, df_edges, hue='label', choice=1, title=\"Types of Connectivity\",\n",
    "                    x_label=\"Bristle Axon\", y_label=\"Number of Connections\", bins=140):\n",
    "    df_edges, bins = get_orders_for_df(edges, df_edges, hue=hue, choice=choice)\n",
    "    f = plt.figure(figsize=(30,10))\n",
    "    ax = f.add_subplot(1,1,1)\n",
    "\n",
    "    sns.histplot(data=df_edges, ax=ax, multiple=\"stack\",\n",
    "                 x=\"order\", bins = bins,\n",
    "                 palette=\"Paired\", hue=hue, \n",
    "                 element=\"bars\", legend=True)\n",
    "    ax.set_title(title)\n",
    "    ax.set_xlabel(x_label)\n",
    "    ax.set_ylabel(y_label) # number of partners connected to\n",
    "    sns.move_legend(ax, \"upper right\",frameon=False,bbox_to_anchor=(1.1, 1))\n",
    "    #plt.savefig('../Bristle_project/figures/celltype_downstream_input_conn.png')\n",
    "    return df_edges\n",
    "\n",
    "def get_orders_for_df(edges, df_edges, queried_ids):\n",
    "    edges = edges\n",
    "\n",
    "    # pre and post pt_root_ids list\n",
    "#     if choice == 1:\n",
    "    pre = edges.pre_pt_root_id.unique().tolist()\n",
    "    post = edges.post_pt_root_id.unique().tolist()\n",
    "#     else:\n",
    "#         post = edges.pre_pt_root_id.unique().tolist()\n",
    "#         pre = edges.post_pt_root_id.unique().tolist()\n",
    "\n",
    "    # initialize conn_mat with length of pre and post pt_root_ids\n",
    "    conn_mat = np.zeros((len(pre),len(post)))\n",
    "    print(conn_mat.shape)\n",
    "\n",
    "    # enumerate every pre_pt_root_id in pre list\n",
    "    for ix, i in enumerate(pre):\n",
    "        # locates rows with pre_pt_root_id as such\n",
    "        subset = edges[edges.pre_pt_root_id == i]\n",
    "\n",
    "        for jx, j in enumerate(post):\n",
    "            if j in subset.post_pt_root_id.tolist():\n",
    "                c = subset[subset.post_pt_root_id==j]['count'].tolist()[0]\n",
    "                conn_mat[ix,jx] = c\n",
    "    sim_mat = cosine_similarity(conn_mat)\n",
    "    clustered_order = get_clustered_order(sim_mat)\n",
    "    ids_ordered = [pre[i] for i in clustered_order]\n",
    "    id_dict = dict(zip(ids_ordered,[i for i in range(len(clustered_order))]))\n",
    "\n",
    "    df_edges['order'] = df_edges[queried_ids].map(id_dict)\n",
    "\n",
    "#     order = []\n",
    "#     df_edges= df_edges\n",
    "#     for i in df_edges[queried_ids]:\n",
    "#         ix = 140\n",
    "#         for jx, j in enumerate(id_dict):\n",
    "#             if i == j:\n",
    "#                 ix = jx\n",
    "\n",
    "#         order.append(ix)\n",
    "#     df_edges['order'] = order\n",
    "    return df_edges\n",
    "\n",
    "# tot_df is of order and count column only and comprises ALL the counts\n",
    "# label_df is of order and count column only and comprises parts of counts\n",
    "def get_full_axon_df(tot_df, label_df):\n",
    "    lst = [i for i in range(tot_df.shape[0])]\n",
    "    dct2 = dict(zip(label_df['order'], label_df['count']))\n",
    "    dct1 = {lst[i]: 0 for i in range(len(lst))}\n",
    "    dct1.update(dct2)\n",
    "    keys = list(dct1.keys())\n",
    "    vals = list(dct1.values())\n",
    "    new_dct = {'order':keys, 'count':vals}\n",
    "    df = pd.DataFrame(data=new_dct)\n",
    "    return df\n",
    "\n",
    "# lst should always be a list of string of the column labels, and the first 4 elements of the list must\n",
    "# be ['pre_pt_root_id', 'post_pt_root_id','partner_pt_root_id', 'interested_pt_root_ids']. Must also include 'label' of\n",
    "# upstream/downstream/recurrent if wanting to visualize the proportionality for them. Else, can include a hue/hues of choice.\n",
    "# num_thresh is the minimum number of connections to be included in the df_edges \n",
    "def get_edges(df, lst, num_thresh=3):\n",
    "    df_edges = df.groupby(lst).size().sort_values(ascending=False).reset_index(name='count')\n",
    "    df_edges = df_edges.query(f'count > {num_thresh}')\n",
    "    return df_edges\n",
    "\n",
    "\n",
    "# gets the count through performing groupby(['column_interested', 'classification_interested'])\n",
    "def get_count_connections(df, lst):\n",
    "    df_edges = df.groupby(lst).size().sort_values(ascending=False).reset_index(name='count')\n",
    "\n",
    "# get counts of synapses of the df given (assuming df has column of count of synapses for each pt_root_id pair of interest)\n",
    "# column: the column label of interest to be filtered\n",
    "# tot: the groupby total of the df's counts of synapses\n",
    "# test: the classification of the group of interested rows that we want to query for\n",
    "# groupby: the classification of interest we want to assign the counts to\n",
    "def get_count_synapse(df, tot, test='upstream', groupby='order'):\n",
    "    up = df[df['label']==test].groupby(groupby)['count'].sum().reset_index()\n",
    "    up = get_full_axon_df(tot, up)\n",
    "    return up\n",
    "    \n",
    "def get_count_by_proportionality(df, df_groupby_total, label):\n",
    "    df_portion = get_count_synapse(df, df_groupby_total, test=label)\n",
    "    df_portion['count'] = [i / j * 100 for i,j in zip(df_portion['count'], df_groupby_total['count'])]\n",
    "    df_portion.name = label;\n",
    "    return df_portion\n",
    "\n",
    "# def get_total_counts_by_order(df_edges):\n",
    "#     return df_edges.groupby(['order'])['count'].sum().reset_index()\n",
    "\n",
    "def plot_percent_stacked_bar(total, args, queried_ids, x='order', only=[]):\n",
    "    f = plt.figure(figsize=(30,10))\n",
    "    ax = f.add_subplot(1,1,1)\n",
    "    bottom = [0 for i in range(total.shape[0])]\n",
    "    if len(only) != 0:\n",
    "        for arg in args:\n",
    "            if arg.name in only:\n",
    "                ax.bar(arg[x], arg['count'], bottom=bottom, edgecolor='white', label=arg.name)\n",
    "                bottom = [i+j for i,j in zip(bottom, arg['count'])]\n",
    "            else:    \n",
    "                ax.bar(arg[x], arg['count'], color='#808080', bottom=bottom, edgecolor='white')\n",
    "                bottom = [i+j for i,j in zip(bottom, arg['count'])]\n",
    "    else:\n",
    "        for arg in args:\n",
    "           ax.bar(arg[x], arg['count'], bottom=bottom, edgecolor='white', label=arg.name)\n",
    "           bottom = [i+j for i,j in zip(bottom, arg['count'])]\n",
    "    plt.legend(loc='lower right', bbox_to_anchor=(1,1), ncol=1, prop={\"size\":20})\n",
    "    ax.set_title('Connection Directionality')\n",
    "    ax.set_xlabel(queried_ids)\n",
    "    ax.set_ylabel(\"Synapses by Percentage per pt_root_id\")"
   ]
  },
  {
   "cell_type": "code",
   "execution_count": 5,
   "id": "6b21c070",
   "metadata": {},
   "outputs": [],
   "source": [
    "# pt_root_ids(list/tuple): interested point root ids to examine the flow of information (downstream/upstream/recurrent)\n",
    "# queried_ids(str): the name of the pt_root_ids' classification of interest.\n",
    "# num_thresh(int): the minimum number of connections between the interested ids and their partners to be included\n",
    "# only: the list of labels (downstream/upstream/recurrent) that should be visualized. Defaulted to empty list --> color everything\n",
    "def plot_percent_stacked_bar_by_synapse(pt_root_ids, queried_ids, num_thresh=3, only=[]):\n",
    "    pt_root_ids = [*set(pt_root_ids)]\n",
    "    df = check_partners_individual(pt_root_ids[0], queried_ids=queried_ids)\n",
    "    pt_root_ids.pop(0)\n",
    "    for pt_root_id in pt_root_ids:\n",
    "        df1 = check_partners_individual(pt_root_id, queried_ids=queried_ids)\n",
    "        # concat the current bristle dataframe with the just made bristle dataframe\n",
    "        df = pd.concat([df, df1], axis=0)\n",
    "    edges = get_edges(df, ['pre_pt_root_id', 'post_pt_root_id', 'partner_pt_root_id', \n",
    "                           queried_ids, 'label'], num_thresh=num_thresh)\n",
    "    downstream_edges = edges.loc[(edges[queried_ids] == edges.pre_pt_root_id)]\n",
    "    edges = get_orders_for_df(downstream_edges, edges, queried_ids)\n",
    "\n",
    "    total = edges.groupby(['order'])['count'].sum().reset_index()\n",
    "    subdf_lst = []\n",
    "    for label in [*df.label.unique()]:\n",
    "        subdf_lst.append(get_count_by_proportionality(edges, total, label))\n",
    "    plot_percent_stacked_bar(total, subdf_lst, queried_ids, only=only)"
   ]
  },
  {
   "cell_type": "code",
   "execution_count": 6,
   "id": "4de0d22c",
   "metadata": {},
   "outputs": [],
   "source": [
    "client = CAVEclient()\n",
    "datastack_name = 'fanc_production_mar2021'\n",
    "client = CAVEclient(datastack_name)"
   ]
  },
  {
   "cell_type": "markdown",
   "id": "a3b23e74",
   "metadata": {},
   "source": [
    "### Speicfy the pt_root_ids interested for analysis of directionality"
   ]
  },
  {
   "cell_type": "code",
   "execution_count": 7,
   "id": "1fd1d37f",
   "metadata": {},
   "outputs": [],
   "source": [
    "bristle_df= client.materialize.query_table('bristle_axon_table')\n",
    "leg_df = bristle_df[bristle_df.classification_system=='T1_L']\n",
    "bristle_ids = leg_df['pt_root_id'].tolist() # stores interested pt_root_ids as a list here"
   ]
  },
  {
   "cell_type": "code",
   "execution_count": 8,
   "id": "d60f96c0",
   "metadata": {},
   "outputs": [],
   "source": [
    "# makes a copy of the list of pt_root_ids\n",
    "pt_root_ids = bristle_ids.copy()"
   ]
  },
  {
   "cell_type": "markdown",
   "id": "a475e220",
   "metadata": {},
   "source": [
    "### Finds and returns directionality in the table \n",
    "uses check_partners_individual(pt_root_id_interested, queried_ids=\"pt_root_ids_population_name\") on every pt_root_id to find all the partners and their directionality in relation to the pt_root_ids. (New column name with such information is recorded as \"label.\")"
   ]
  },
  {
   "cell_type": "code",
   "execution_count": 14,
   "id": "7d206a6d",
   "metadata": {},
   "outputs": [],
   "source": [
    "pt_root_ids = [*set(pt_root_ids)]\n",
    "df = check_partners_individual(pt_root_ids[0], queried_ids=\"interested_pt_root_ids\")\n",
    "pt_root_ids.pop(0)\n",
    "for pt_root_id in pt_root_ids:\n",
    "    df1 = check_partners_individual(pt_root_id, queried_ids=\"interested_pt_root_ids\")\n",
    "    # concat the current bristle dataframe with the just made bristle dataframe\n",
    "    df = pd.concat([df, df1], axis=0)"
   ]
  },
  {
   "cell_type": "markdown",
   "id": "d06aba4a",
   "metadata": {},
   "source": [
    "### Gets synapse counts of each pre and post relation \n",
    "uses get_edges(df_just_made, [group_by_column], num_thresh=3) to get the synapse counts between the pre and post by specifying the df to get the synapse counts of and the minimum number of synapse counts there must be for each connection between two pt_root_ids to be included in the table"
   ]
  },
  {
   "cell_type": "code",
   "execution_count": 15,
   "id": "54b7203d",
   "metadata": {},
   "outputs": [],
   "source": [
    "edges = get_edges(df, ['pre_pt_root_id', 'post_pt_root_id', 'partner_pt_root_id', \n",
    "                           \"interested_pt_root_ids\", 'label'], num_thresh=3)"
   ]
  },
  {
   "cell_type": "markdown",
   "id": "dc546647",
   "metadata": {},
   "source": [
    "### Order the interested pt_root_ids by similarity\n",
    "We can have the interested pt_root_ids that are more similar (in terms of downstream connectivity) to one another grouped together by calling the function get_orders_for_df. The function's syntax is get_orders_for_df(downstream_edges, edges, queried_ids) where:\n",
    "\n",
    "    - downstream_edges is the extracted rows with pre_pt_root_ids being the interested pt_root_ids\n",
    "    - edges is current master df with information on pre_pt_root_ids, post_pt_root_ids, interested_pt_root_ids, \n",
    "      partners_pt_root_ids (obtained through get_edges previously)\n",
    "    - queried_ids: the name of the population of interested_pt_root_ids (for graphing/naming purposes)\n",
    "    "
   ]
  },
  {
   "cell_type": "code",
   "execution_count": 16,
   "id": "0d608266",
   "metadata": {},
   "outputs": [
    {
     "name": "stdout",
     "output_type": "stream",
     "text": [
      "(139, 1189)\n"
     ]
    },
    {
     "data": {
      "image/png": "[encoded data removed]",
      "text/plain": [
       "<Figure size 432x288 with 1 Axes>"
      ]
     },
     "metadata": {
      "needs_background": "light"
     },
     "output_type": "display_data"
    }
   ],
   "source": [
    "downstream_edges = edges.loc[(edges[\"interested_pt_root_ids\"] == edges.pre_pt_root_id)]\n",
    "\n",
    "# updating the master df with a new column for \"order\"\n",
    "\n",
    "edges = get_orders_for_df(downstream_edges, edges, \"interested_pt_root_ids\")"
   ]
  },
  {
   "cell_type": "markdown",
   "id": "49ccc362",
   "metadata": {},
   "source": [
    "### Plotting percent stacked bar charts by the proportionality of each interested_pt_root_id connection's directionality to partners\n",
    "We now have the counts of synapses, the order the interested_pt_root_ids should be plotted in. In order to plot the percentage of each interested_pt_root_id connection's directionality to partners (i.e. the percentage of upstream/downstream/recurrent connection made by each interested_pt_root_id), the \"count\" column of the master df has to be updated so that it reflects the percentage of each directionality over the total. Then, we can use the plot_percent_stacked_bar(total, args, queried_ids, x='order', only=[]) function to plot the proportionality where:\n",
    "\n",
    "    - total (df): the number of synapses of each interested_pt_root_id\n",
    "    - args: the list of dfs with \"counts\" column updated. Each element is a df with only either \n",
    "      upstream/downstream/recurrent rows included.\n",
    "    - queried_ids: the name of the population of the interested_pt_root_ids\n",
    "    - x=\"order\": the x-axis to be plotted (instead of long interested_pt_root_ids, use unique order to each \n",
    "      interested_pt_root_id instead.)\n",
    "    - only=[]: list of names of directionality to be visualized. If only is empty, plot normally with all directionality \n",
    "      colored. If not empty, have the directionality not included greyed out and the directionalities included colored."
   ]
  },
  {
   "cell_type": "code",
   "execution_count": 21,
   "id": "fa332445",
   "metadata": {},
   "outputs": [
    {
     "data": {
      "image/png": "[encoded data removed]",
      "text/plain": [
       "<Figure size 2160x720 with 1 Axes>"
      ]
     },
     "metadata": {
      "needs_background": "light"
     },
     "output_type": "display_data"
    }
   ],
   "source": [
    "# obtain the total number of synapse counts for each dfs\n",
    "total_df = edges.groupby(['order'])['count'].sum().reset_index()\n",
    "\n",
    "# use get_count_by_proportionality to obtain each directionality's percentage over the total population\n",
    "# get_count_proportionality(edges, total, label, column='label'):\n",
    "    # edges: the master df that has all information on \"count,\" \"order,\" \"directionality/label\"\n",
    "    # total_df: the df obtained previously to get the total number of synapse counts for each interested_pt_root_od\n",
    "    # label: the label of each directionality\n",
    "subdf_lst = []\n",
    "for label in [*df.label.unique()]:\n",
    "    subdf_lst.append(get_count_by_proportionality(edges, total_df, label))\n",
    "    \n",
    "# plots the percent stacked bar chart (only visualize upstream proportion)\n",
    "plot_percent_stacked_bar(total_df, subdf_lst, 'interested pt_root_ids', only=['upstream'])"
   ]
  },
  {
   "cell_type": "code",
   "execution_count": null,
   "id": "c721ca3c",
   "metadata": {},
   "outputs": [],
   "source": [
    "plot_percent_stacked_bar_by_synapse(pt_root_ids,'Bristles', only=[])"
   ]
  },
  {
   "cell_type": "code",
   "execution_count": null,
   "id": "de765c3b",
   "metadata": {},
   "outputs": [],
   "source": []
  }
 ],
 "metadata": {
  "kernelspec": {
   "display_name": "Python 3 (ipykernel)",
   "language": "python",
   "name": "python3"
  },
  "language_info": {
   "codemirror_mode": {
    "name": "ipython",
    "version": 3
   },
   "file_extension": ".py",
   "mimetype": "text/x-python",
   "name": "python",
   "nbconvert_exporter": "python",
   "pygments_lexer": "ipython3",
   "version": "3.7.13"
  }
 },
 "nbformat": 4,
 "nbformat_minor": 5
}
