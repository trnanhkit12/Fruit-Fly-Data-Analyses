{
 "cells": [
  {
   "cell_type": "code",
   "execution_count": 1,
   "id": "a3dfc446",
   "metadata": {},
   "outputs": [
    {
     "ename": "ModuleNotFoundError",
     "evalue": "No module named 'caveclient'",
     "output_type": "error",
     "traceback": [
      "\u001b[1;31m---------------------------------------------------------------------------\u001b[0m",
      "\u001b[1;31mModuleNotFoundError\u001b[0m                       Traceback (most recent call last)",
      "Input \u001b[1;32mIn [1]\u001b[0m, in \u001b[0;36m<cell line: 1>\u001b[1;34m()\u001b[0m\n\u001b[1;32m----> 1\u001b[0m \u001b[38;5;28;01mfrom\u001b[39;00m \u001b[38;5;21;01mcaveclient\u001b[39;00m \u001b[38;5;28;01mimport\u001b[39;00m CAVEclient\n\u001b[0;32m      2\u001b[0m \u001b[38;5;28;01mimport\u001b[39;00m \u001b[38;5;21;01mpandas\u001b[39;00m \u001b[38;5;28;01mas\u001b[39;00m \u001b[38;5;21;01mpd\u001b[39;00m\n\u001b[0;32m      3\u001b[0m \u001b[38;5;28;01mimport\u001b[39;00m \u001b[38;5;21;01mnumpy\u001b[39;00m \u001b[38;5;28;01mas\u001b[39;00m \u001b[38;5;21;01mnp\u001b[39;00m\n",
      "\u001b[1;31mModuleNotFoundError\u001b[0m: No module named 'caveclient'"
     ]
    }
   ],
   "source": [
    "from caveclient import CAVEclient\n",
    "import pandas as pd\n",
    "import numpy as np\n",
    "import os\n",
    "import matplotlib.pyplot as plt\n",
    "import seaborn as sns\n",
    "from matplotlib import pyplot\n",
    "from IPython.core.debugger import set_trace\n",
    "import math\n",
    "import matplotlib.pyplot as plt\n",
    "import matplotlib.patches as mpatches\n",
    "from mpl_toolkits.mplot3d import Axes3D\n",
    "import plotly.express as px\n",
    "import plotly.graph_objects as go\n",
    "from sklearn.metrics.pairwise import cosine_similarity\n",
    "from scipy.cluster.hierarchy import dendrogram\n",
    "from scipy.cluster.hierarchy import fcluster\n",
    "from sklearn.cluster import AgglomerativeClustering\n",
    "from sklearn.preprocessing import StandardScaler\n",
    "import networkx as nx"
   ]
  },
  {
   "cell_type": "code",
   "execution_count": null,
   "id": "0adcc90f",
   "metadata": {},
   "outputs": [],
   "source": [
    "pd.set_option('display.float_format', lambda x: '%.0f' % x)"
   ]
  },
  {
   "cell_type": "code",
   "execution_count": null,
   "id": "6021f1ca",
   "metadata": {},
   "outputs": [],
   "source": [
    "client = CAVEclient()\n",
    "datastack_name = 'fanc_production_mar2021'\n",
    "client = CAVEclient(datastack_name)\n",
    "client.materialize.get_tables()"
   ]
  },
  {
   "cell_type": "markdown",
   "id": "92202052",
   "metadata": {},
   "source": [
    "## Functions"
   ]
  },
  {
   "cell_type": "code",
   "execution_count": null,
   "id": "b14cc0a4",
   "metadata": {},
   "outputs": [],
   "source": [
    "def get_clustered_order(sim_mat, distance_threshold = 0, \n",
    "                       n_clusters = None, **kwargs):\n",
    "    \n",
    "    model = AgglomerativeClustering(distance_threshold=distance_threshold, n_clusters=None).fit(sim_mat)\n",
    "    # create the counts of samples under each node\n",
    "    counts = np.zeros(model.children_.shape[0])\n",
    "    n_samples = len(model.labels_)\n",
    "    for i, merge in enumerate(model.children_):\n",
    "        current_count = 0\n",
    "        for child_idx in merge:\n",
    "            if child_idx < n_samples:\n",
    "                current_count += 1  # leaf node\n",
    "            else:\n",
    "                current_count += counts[child_idx - n_samples]\n",
    "        counts[i] = current_count\n",
    "\n",
    "    linkage_matrix = np.column_stack(\n",
    "        [model.children_, model.distances_, counts]\n",
    "    ).astype(float)\n",
    "\n",
    "    # Plot the corresponding dendrogram\n",
    "    dendrogram(linkage_matrix, **kwargs)\n",
    "    dend_dict = dendrogram(linkage_matrix, **kwargs)\n",
    "    \n",
    "    # sorted order of indices found through clustering\n",
    "    clustered_order = dend_dict['ivl']\n",
    "    \n",
    "    parsed_order = []\n",
    "    for c in clustered_order:\n",
    "        if '(' in c:\n",
    "            c = c.split('(')[1]\n",
    "            c = c.split(')')[0]\n",
    "        parsed_order.append(int(c))\n",
    "    \n",
    "    return parsed_order\n",
    "\n",
    "def connectivity_sort(edge, reverted=False):\n",
    "    # pre and post pt_root_ids list\n",
    "    if reverted:\n",
    "        pre = edge.pre_pt_root_id.unique().tolist()\n",
    "        post = edge.pre_pt_root_id.unique().tolist()\n",
    "    else:\n",
    "        \n",
    "        pre = edge.pre_pt_root_id.unique().tolist()\n",
    "        post = edge.post_pt_root_id.unique().tolist()\n",
    "    # initialize conn_mat with length of pre and post pt_root_ids\n",
    "    conn_mat = np.zeros((len(pre),len(post)))\n",
    "    print(conn_mat.shape)\n",
    "\n",
    "    # enumerate every pre_pt_root_id in pre list\n",
    "    for ix, i in enumerate(pre):\n",
    "        # locates rows with pre_pt_root_id as such\n",
    "        subset = edge[edge.pre_pt_root_id == i]\n",
    "\n",
    "        for jx, j in enumerate(post):\n",
    "            if j in subset.post_pt_root_id.tolist():\n",
    "                c = subset[subset.post_pt_root_id==j]['count'].tolist()[0]\n",
    "                conn_mat[ix,jx] = c\n",
    "    sim_mat = cosine_similarity(conn_mat)\n",
    "    clustered_order = get_clustered_order(sim_mat)\n",
    "\n",
    "    ids_ordered = [pre[i] for i in clustered_order]\n",
    "    ids_order_map = dict(zip(ids_ordered,[i for i in range(len(ids_ordered))]))\n",
    "\n",
    "#     gust_only_edge['pre_order'] = gust_only_edge['pre_pt_root_id'].map(ids_order_map)\n",
    "#     gust_only_edge['post_order'] = gust_only_edge['post_pt_root_id'].map(ids_order_map)\n",
    "    return ids_order_map, conn_mat, clustered_order\n",
    "\n",
    "# convert into microns\n",
    "def convert_to_microns(col, voxel_size=[4.3,4.3,45]):\n",
    "    return np.vstack(col.values)*voxel_size/1000\n",
    "\n",
    "def plot_entire(df, title, hue):\n",
    "    # setting up size and axis handle for plot\n",
    "    a4_dims = (15, 10)\n",
    "    fig, ax = pyplot.subplots(1,2,figsize=a4_dims)\n",
    "    # plots synapses with seaborn module based on classification systems\n",
    "    syn_pos = convert_to_microns(df['pre_pt_position'])\n",
    "    x = syn_pos[:, 0]\n",
    "    y = syn_pos[:, 1]\n",
    "    z = syn_pos[:, 2]\n",
    "    sns.scatterplot(x=x, y=y, hue=hue,legend=False,palette='Set2', ax=ax[0]).set_title(title)\n",
    "    ax[0].set_xlim(30, 180)\n",
    "    ax[0].set_ylim(400, 520)\n",
    "    ax[0].set_aspect('equal')\n",
    "    ax[0].set_xlabel('x (um)')\n",
    "    ax[0].set_ylabel('y (um)')\n",
    "    sns.scatterplot(x=x, y=z, hue=hue,legend='auto',palette='Set2', ax=ax[1]).set_title(title)\n",
    "    ax[1].set_xlim(30, 170)\n",
    "    ax[1].set_ylim(105, 180)\n",
    "    ax[1].set_aspect('equal')\n",
    "    ax[1].set_xlabel('x (um)')\n",
    "    ax[1].set_ylabel('z (um)')\n",
    "    plt.legend(loc = 2, bbox_to_anchor = (1,1))\n",
    "    return syn_pos\n",
    "\n",
    "def classify_clusters(rnge, clss):\n",
    "    dct = dict(zip(rnge,np.repeat(clss,30)))\n",
    "    return dct\n",
    "\n",
    "def histplot_classes(df, hue,title, hue_order=None, x='post_order'):\n",
    "    f = plt.figure(figsize=(30,10))\n",
    "    ax = f.add_subplot(1,1,1)\n",
    "    sns.histplot(data=df, x=x, hue=hue, hue_order=hue_order,\n",
    "                palette=\"Paired\", multiple='layer', bins = len(df[x].unique())).set_title(title)\n",
    "    ax.set_ylim(0, 35)\n",
    "    sns.move_legend(ax, \"upper right\",frameon=False,bbox_to_anchor=(1.15, 1))\n",
    "    \n",
    "def histplot_a_class(df, title_hue, length, x='post_order'):\n",
    "    f = plt.figure(figsize=(30,10))\n",
    "    ax = f.add_subplot(1,1,1)\n",
    "    sns.histplot(data=df, x=x, bins= length,\n",
    "                palette=\"Paired\", multiple='layer').set_title(title_hue)\n",
    "    ax.set_ylim(0, 35)"
   ]
  },
  {
   "cell_type": "code",
   "execution_count": null,
   "id": "5de6bc4e",
   "metadata": {},
   "outputs": [],
   "source": [
    "%matplotlib inline\n",
    "# tot_df is of order and count column only and comprises ALL the counts\n",
    "# label_df is of order and count column only and comprises parts of counts\n",
    "def get_full_axon_df(tot_df, label_df, groupby='order', tot_missing=False, tot=None):\n",
    "    lst = [i for i in range(tot_df.shape[0])]\n",
    "    if tot_missing:\n",
    "        lst = [i for i in range(tot)]\n",
    "    dct2 = dict(zip(label_df[groupby], label_df['count']))\n",
    "    dct1 = {lst[i]: 0 for i in range(len(lst))}\n",
    "    if tot_missing:\n",
    "        dct1 = {lst[i]: 0.00001 for i in range(len(lst))}\n",
    "    dct1.update(dct2)\n",
    "    keys = list(dct1.keys())\n",
    "    vals = list(dct1.values())\n",
    "    new_dct = {groupby:keys, 'count':vals}\n",
    "    df = pd.DataFrame(data=new_dct)\n",
    "    return df\n",
    "\n",
    "def get_count_synapse(df, tot, column='label', test='upstream', groupby='order'):\n",
    "    if isinstance(test, str):\n",
    "        up = df[df[column]==test].groupby(groupby)['count'].sum().reset_index()\n",
    "        up = get_full_axon_df(tot, up, groupby=groupby[0])\n",
    "    else:\n",
    "        up = df[df[column].isna()].groupby(groupby)['count'].sum().reset_index()\n",
    "        up = get_full_axon_df(tot, up, groupby=groupby[0])\n",
    "    return up\n",
    "\n",
    "def get_count_by_proportionality(df, test, df_groupby_total, label, column='label', groupby='order'):\n",
    "    df_portion = get_count_synapse(df, df_groupby_total, test=test, column=column, groupby=groupby)\n",
    "    df_portion['count'] = [i / j * 100 for i,j in zip(df_portion['count'], df_groupby_total['count'])]\n",
    "    df_portion.name = str(label);\n",
    "    return df_portion\n",
    "\n",
    "def plot_percent_stacked_bar(total, args, x='order', only=[]):\n",
    "    f = plt.figure(figsize=(30,10))\n",
    "    ax = f.add_subplot(1,1,1)\n",
    "    bottom = [0 for i in range(total.shape[0])]\n",
    "    if len(only) != 0:\n",
    "        for arg in args:\n",
    "            if arg.name in only:\n",
    "                ax.bar(arg[x], arg['count'], bottom=bottom, edgecolor='white', label=arg.name)\n",
    "                bottom = [i+j for i,j in zip(bottom, arg['count'])]\n",
    "            else:    \n",
    "                ax.bar(arg[x], arg['count'], color='#808080', bottom=bottom, edgecolor='white')\n",
    "                bottom = [i+j for i,j in zip(bottom, arg['count'])]\n",
    "    else:\n",
    "        for arg in args:\n",
    "            ax.bar(arg[x], arg['count'], bottom=bottom, edgecolor='white', label=arg.name)\n",
    "            bottom = [i+j for i,j in zip(bottom, arg['count'])]\n",
    "    plt.legend(loc='lower right', bbox_to_anchor=(1,1), ncol=1, prop={\"size\":20})\n",
    "\n",
    "################################################################################################################################\n",
    "# plots proportion of number of synapses of each gustatory downstream partner's class per gustatory neuron with specified order#\n",
    "################################################################################################################################\n",
    "# master_df (df for short) needs count of synapse column ('count') and order/bristle/pt_root_id of interest to groupby\n",
    "# column is the column's name of the hue by which the bar chart is plotted\n",
    "# groupby is the order/bristle/pt_root_id column to groupby\n",
    "# only is a list of labels that are plotted with color (others are plotted with grey)\n",
    "    # only is an empty list by default. Will plot everything with colors if empty.\n",
    "def plot_percent_stacked_bar_column(df, column, groupby='order', only=[]):\n",
    "    total = df.groupby(groupby)['count'].sum().reset_index()\n",
    "    label_lst = [*df[column].unique()]\n",
    "    subdf_lst = []\n",
    "    for label in label_lst:\n",
    "        subdf_lst.append(get_count_by_proportionality(df, label, total, label, column=column, groupby=groupby))\n",
    "    plot_percent_stacked_bar(total, subdf_lst, only=only, x=groupby[0])\n",
    "#     return label_lst, total, subdf_lst\n",
    "\n",
    "def make_others_df(tot_df, remaining_df, groupby):\n",
    "    df_portion = get_full_axon_df(tot_df, remaining_df, groupby=groupby) # not portion yet\n",
    "    df_portion['count'] = [i / j * 100 for i,j in zip(df_portion['count'], tot_df['count'])]\n",
    "    df_portion.name = 'others'\n",
    "    return df_portion\n",
    "\n",
    "# df with the classification system by tags\n",
    "# classes_by_tags: the string column name that classifies the pt_root_id by tags (with \",\")\n",
    "def append_set_class_col(df, classes_by_tags):\n",
    "    df = df.copy()\n",
    "    labels = [*df[classes_by_tags].unique()]\n",
    "    labels_dict = {}\n",
    "    if any([ (\",\" in i) for i in labels]):\n",
    "        for label in labels:\n",
    "            if (~pd.isna(label)):\n",
    "                sorted_label = sorted(label.split(','))\n",
    "                new_label = '_'.join(sorted_label)\n",
    "                labels_dict.update({label: new_label})\n",
    "    df['set_class'] = df[classes_by_tags].map(labels_dict)\n",
    "    return df"
   ]
  },
  {
   "cell_type": "code",
   "execution_count": null,
   "id": "964bedd5",
   "metadata": {},
   "outputs": [],
   "source": [
    "# get bristle tables\n",
    "bristle_df= client.materialize.query_table('bristle_axon_table')\n",
    "leg_df = bristle_df.loc[bristle_df.classification_system.str.contains(\"T1_L\")]\n",
    "gust_df = leg_df.loc[(leg_df.classification_system.str.contains(\"gust\"))\n",
    "                     |leg_df.cell_type.str.contains(\"gust\")]\n",
    "leg_df.shape, gust_df.shape"
   ]
  },
  {
   "cell_type": "code",
   "execution_count": null,
   "id": "1d3bd8ce",
   "metadata": {},
   "outputs": [],
   "source": [
    "dwn_df= client.materialize.query_table('downstream_bristle_table_v0')\n",
    "print(dwn_df.shape)\n",
    "dwn_df.head()"
   ]
  },
  {
   "cell_type": "code",
   "execution_count": null,
   "id": "e1b97e63",
   "metadata": {},
   "outputs": [],
   "source": [
    "# get downstream and upstream partners of gust\n",
    "gust_down_df = client.materialize.synapse_query(pre_ids=gust_df.pt_root_id)\n",
    "gust_up_df = client.materialize.synapse_query(post_ids=gust_df.pt_root_id)"
   ]
  },
  {
   "cell_type": "code",
   "execution_count": null,
   "id": "bfec3073",
   "metadata": {},
   "outputs": [],
   "source": [
    "pd.set_option('display.float_format', lambda x: '%.0f' % x)"
   ]
  },
  {
   "cell_type": "markdown",
   "id": "9d24be3e",
   "metadata": {},
   "source": [
    "### Gust_downstream edge filtered for >3 or not"
   ]
  },
  {
   "cell_type": "code",
   "execution_count": null,
   "id": "3453b73c",
   "metadata": {},
   "outputs": [],
   "source": [
    "gust_downstream_edge = gust_down_df.groupby(['pre_pt_root_id', 'post_pt_root_id', ],\n",
    "                        dropna=False).size().sort_values(ascending=False).reset_index(name='count')\n",
    "gust_downstream_edge = gust_downstream_edge.query(\"count > 3\")"
   ]
  },
  {
   "cell_type": "code",
   "execution_count": null,
   "id": "558c699b",
   "metadata": {},
   "outputs": [],
   "source": [
    "gust_downstream_edge.pre_pt_root_id.unique()"
   ]
  },
  {
   "cell_type": "code",
   "execution_count": null,
   "id": "febdd263",
   "metadata": {},
   "outputs": [],
   "source": [
    "# get partners of gust that are gust\n",
    "\n",
    "## get gust_lst\n",
    "gust_lst = gust_df.pt_root_id.to_list()\n",
    "\n",
    "## filter for gust-gust connection\n",
    "df1 = gust_down_df.loc[(gust_down_df.post_pt_root_id.isin(gust_lst))]\n",
    "df2 = gust_up_df.loc[(gust_up_df.pre_pt_root_id.isin(gust_lst))]\n",
    "gust_only_df = pd.concat([df1, df2], axis=0)"
   ]
  },
  {
   "cell_type": "code",
   "execution_count": null,
   "id": "023f549e",
   "metadata": {},
   "outputs": [],
   "source": [
    "gust_only_edge = gust_only_df.groupby(['pre_pt_root_id', 'post_pt_root_id'], \n",
    "                            dropna=False).size().sort_values(ascending=False).reset_index(name='count')"
   ]
  },
  {
   "cell_type": "markdown",
   "id": "7c101279",
   "metadata": {},
   "source": [
    "## Gust_downstream connectivity"
   ]
  },
  {
   "cell_type": "code",
   "execution_count": null,
   "id": "eecb745e",
   "metadata": {},
   "outputs": [],
   "source": [
    "# class_df = pd.read_pickle(r'C:\\Users\\trnan\\OneDrive\\Desktop\\uw\\Tutill lab\\repos\\gustatory_downstream')\n",
    "# final_class_df = class_df[['Segment IDs','Tags']].reset_index()\n",
    "# final_class_df = final_class_df.drop(final_class_df[~final_class_df['Segment IDs'].isin(gust_post_ids_ordered)].index)"
   ]
  },
  {
   "cell_type": "code",
   "execution_count": null,
   "id": "56f6efdd",
   "metadata": {},
   "outputs": [],
   "source": [
    "# final_class_df = pd.read_csv(r'C:\\Users\\trnan\\OneDrive\\Desktop\\uw\\Tutill lab\\repos\\MicronsBinder\\notebooks\\Data.csv')\n",
    "# final_class_df = final_class_df.rename(columns={'root_id':'pt_root_id'})"
   ]
  },
  {
   "cell_type": "code",
   "execution_count": null,
   "id": "af0e2ec1",
   "metadata": {},
   "outputs": [],
   "source": [
    "final_class_df = client.materialize.query_table('gustatory_downstream_t1l')"
   ]
  },
  {
   "cell_type": "code",
   "execution_count": null,
   "id": "cc756e6b",
   "metadata": {},
   "outputs": [],
   "source": [
    "new_class_dct = dict(zip(final_class_df['pt_root_id'], final_class_df['classification_system']))"
   ]
  },
  {
   "cell_type": "code",
   "execution_count": null,
   "id": "04ec2a0e",
   "metadata": {},
   "outputs": [],
   "source": [
    "# Removing NaN (non-labeled downstream partners)\n",
    "gust_downstream_edge['new_class'] = gust_downstream_edge['post_pt_root_id'].map(new_class_dct)\n",
    "temp = gust_downstream_edge.loc[(~gust_downstream_edge.new_class.isna())]\n",
    "removed_rows = gust_downstream_edge.shape[0] - temp.shape[0]\n",
    "removed_unique_downstream_partners = len(gust_downstream_edge.loc[(gust_downstream_edge.new_class.isna())].post_pt_root_id.unique())\n",
    "print('removed rows = ' + str(removed_rows))\n",
    "print('removed unique downstream partners = ' + str(removed_unique_downstream_partners))\n",
    "gust_downstream_edge = temp\n",
    "\n",
    "# assigning new labeling system\n",
    "gust_downstream_edge = append_set_class_col(gust_downstream_edge, 'new_class')\n",
    "gust_downstream_edge = gust_downstream_edge.loc[gust_downstream_edge.set_class != 'error']"
   ]
  },
  {
   "cell_type": "code",
   "execution_count": null,
   "id": "f91ec36e",
   "metadata": {},
   "outputs": [],
   "source": [
    "# gust-downstream connectivity dendrogram sorted by cosine similarity with downstream partners being gustatory exculded \n",
    "ids_map_gust_downstream, conn_mat_dwn, clustered_order_dwn = connectivity_sort(gust_downstream_edge[~gust_downstream_edge.post_pt_root_id.isin(gust_downstream_edge.pre_pt_root_id)])\n",
    "gust_downstream_edge['order'] = gust_downstream_edge['pre_pt_root_id'].map(ids_map_gust_downstream)"
   ]
  },
  {
   "cell_type": "code",
   "execution_count": null,
   "id": "351fe5e4",
   "metadata": {},
   "outputs": [],
   "source": [
    "len(gust_downstream_edge.post_pt_root_id.unique())"
   ]
  },
  {
   "cell_type": "code",
   "execution_count": null,
   "id": "a7afba20",
   "metadata": {},
   "outputs": [],
   "source": [
    "pre = gust_downstream_edge.pre_pt_root_id.unique().tolist()\n",
    "post = gust_downstream_edge[~gust_downstream_edge.post_pt_root_id.isin(gust_downstream_edge.pre_pt_root_id)].post_pt_root_id.unique().tolist()\n",
    "# initialize conn_mat with length of pre and post pt_root_ids\n",
    "conn_mat = np.zeros((len(pre),len(post)))\n",
    "print(conn_mat.shape)\n",
    "\n",
    "# enumerate every pre_pt_root_id in pre list\n",
    "for ix, i in enumerate(pre):\n",
    "    # locates rows with pre_pt_root_id as such\n",
    "    subset = gust_downstream_edge[gust_downstream_edge.pre_pt_root_id == i]\n",
    "\n",
    "    for jx, j in enumerate(post):\n",
    "        if j in subset.post_pt_root_id.tolist():\n",
    "            c = subset[subset.post_pt_root_id==j]['count'].tolist()[0]\n",
    "            conn_mat[ix,jx] = c"
   ]
  },
  {
   "cell_type": "code",
   "execution_count": null,
   "id": "72c78e6d",
   "metadata": {},
   "outputs": [],
   "source": [
    "#clustering the gustatory neurons\n",
    "gust_pre = gust_downstream_edge.pre_pt_root_id.unique().tolist()\n",
    "gust_sim_mat = cosine_similarity(conn_mat)\n",
    "gust_clustered_order = get_clustered_order(gust_sim_mat)\n",
    "gust_ids_ordered = [gust_pre[i] for i in gust_clustered_order]"
   ]
  },
  {
   "cell_type": "code",
   "execution_count": null,
   "id": "0c79f12d",
   "metadata": {},
   "outputs": [],
   "source": [
    "# ordered by gust-gust similarity matrix of gust-gust connectivity \n",
    "\n",
    "gust_pre = gust_downstream_edge.pre_pt_root_id.unique().tolist()\n",
    "gust_sim_mat = cosine_similarity(conn_mat)\n",
    "gust_clustered_order = get_clustered_order(gust_sim_mat)\n",
    "gust_ids_ordered = [gust_pre[i] for i in gust_clustered_order]\n",
    "\n",
    "fig = plt.figure(1, figsize =[12,10])\n",
    "sim_mat = gust_sim_mat[gust_clustered_order,:]\n",
    "sim_mat = sim_mat[:,gust_clustered_order]\n",
    "sns.heatmap(sim_mat)\n",
    "plt.show()"
   ]
  },
  {
   "cell_type": "code",
   "execution_count": null,
   "id": "6c88416f",
   "metadata": {},
   "outputs": [],
   "source": [
    "gust_downstream_edge[gust_downstream_edge['order'].isin(range(0,2))].post_pt_root_id.unique()"
   ]
  },
  {
   "cell_type": "code",
   "execution_count": null,
   "id": "47090705",
   "metadata": {},
   "outputs": [],
   "source": [
    "gust_downstream_group = {}\n",
    "for i in range(19):\n",
    "    gust_downstream_group[i] = '1'\n",
    "for i in range(19, 38):\n",
    "    gust_downstream_group[i] = '2'"
   ]
  },
  {
   "cell_type": "code",
   "execution_count": null,
   "id": "53eba093",
   "metadata": {},
   "outputs": [],
   "source": [
    "#clustering the postsynaptic neurons to gust neurons\n",
    "gust_post = gust_downstream_edge[~gust_downstream_edge.post_pt_root_id.isin(gust_downstream_edge.pre_pt_root_id)].post_pt_root_id.unique().tolist()\n",
    "gust_post_sim_mat = cosine_similarity(conn_mat.T)\n",
    "gust_post_clustered_order = get_clustered_order(gust_post_sim_mat)\n",
    "gust_post_ids_ordered = [gust_post[i] for i in gust_post_clustered_order]\n",
    "\n",
    "#reordering the connectivity matrix according to both #clusterings\n",
    "gust_conn_mat_ordered = conn_mat[gust_clustered_order,:]\n",
    "gust_conn_mat_ordered = gust_conn_mat_ordered[:,gust_post_clustered_order]"
   ]
  },
  {
   "cell_type": "code",
   "execution_count": null,
   "id": "e58e5d76",
   "metadata": {},
   "outputs": [],
   "source": [
    "gust_post_id_map = dict(zip(gust_post_ids_ordered,[i for i in range(len(gust_post_ids_ordered))]))"
   ]
  },
  {
   "cell_type": "code",
   "execution_count": null,
   "id": "49899c1a",
   "metadata": {
    "scrolled": false
   },
   "outputs": [],
   "source": [
    "#plotting\n",
    "fig = plt.figure(1, figsize =[20,10])\n",
    "sns.heatmap(gust_conn_mat_ordered, vmin=0, vmax=20)\n",
    "plt.show()"
   ]
  },
  {
   "cell_type": "code",
   "execution_count": null,
   "id": "ee564013",
   "metadata": {},
   "outputs": [],
   "source": [
    "# assigning order for post_ids\n",
    "gust_downstream_edge['post_order'] = gust_downstream_edge['post_pt_root_id'].map(gust_post_id_map)"
   ]
  },
  {
   "cell_type": "code",
   "execution_count": null,
   "id": "b844aa1d",
   "metadata": {},
   "outputs": [],
   "source": [
    "# confirming that the new class added covers for every downstream partners (except for interconnection)\n",
    "gust_downstream_edge.loc[(gust_downstream_edge.new_class.isna()) \n",
    "                         & (gust_downstream_edge.post_pt_root_id.isin(gust_post_ids_ordered))]"
   ]
  },
  {
   "cell_type": "code",
   "execution_count": null,
   "id": "0a0fdb6d",
   "metadata": {},
   "outputs": [],
   "source": [
    "# gust_downstream_edge = gust_downstream_edge[gust_downstream_edge.set_class != 'gustatory']"
   ]
  },
  {
   "cell_type": "markdown",
   "id": "d171fb10",
   "metadata": {},
   "source": [
    "## Plotting number of axon connections per gustatory downstream partners"
   ]
  },
  {
   "cell_type": "code",
   "execution_count": null,
   "id": "71c18169",
   "metadata": {},
   "outputs": [],
   "source": [
    "df_no_error = gust_downstream_edge.copy()\n",
    "df_no_error = df_no_error[df_no_error.set_class != 'gustatory']"
   ]
  },
  {
   "cell_type": "markdown",
   "id": "0c17ae59",
   "metadata": {},
   "source": [
    "- defining dataframes with corresponding labels "
   ]
  },
  {
   "cell_type": "code",
   "execution_count": null,
   "id": "aeb0dc8c",
   "metadata": {},
   "outputs": [],
   "source": [
    "all_ascending_labels = df_no_error[df_no_error.set_class.str.contains('ascending',na=False)].set_class.unique()\n",
    "not_ascending_labels = df_no_error[~df_no_error.set_class.str.contains('ascending',na=False)].set_class.unique()\n",
    "intersegmental_labels = df_no_error[df_no_error.set_class.str.contains('intersegmental',na=False)].set_class.unique()\n",
    "midline_labels = df_no_error[df_no_error.set_class.str.contains('midline',na=False)].set_class.unique()"
   ]
  },
  {
   "cell_type": "code",
   "execution_count": null,
   "id": "cd286c6c",
   "metadata": {},
   "outputs": [],
   "source": [
    "all_ascending = df_no_error[df_no_error.set_class.str.contains('ascending',na=False)]\n",
    "not_ascending = df_no_error[~df_no_error.set_class.str.contains('ascending',na=False)]\n",
    "intersegmental = df_no_error[df_no_error.set_class.str.contains('intersegmental',na=False)]\n",
    "midline = df_no_error[df_no_error.set_class.str.contains('midline',na=False)]\n",
    "name = ['ascending', 'not_ascending', 'intersegmental', 'midline']\n",
    "# all_intersegmental = gust_downstream_edge[gust_downstream_edge.new_class.str.contains('intersegmental',na=False)].new_class.unique()"
   ]
  },
  {
   "cell_type": "code",
   "execution_count": null,
   "id": "819d0fc0",
   "metadata": {},
   "outputs": [],
   "source": [
    "histplot_classes(df_no_error, 'set_class', 'everything')"
   ]
  },
  {
   "cell_type": "code",
   "execution_count": null,
   "id": "5ca3a964",
   "metadata": {},
   "outputs": [],
   "source": [
    "for title, i in enumerate([all_ascending, not_ascending, intersegmental, midline]):\n",
    "    histplot_a_class(i, f'{name[title]}', len(df_no_error.post_order.unique()))"
   ]
  },
  {
   "cell_type": "markdown",
   "id": "1c524513",
   "metadata": {},
   "source": [
    "##### Checking for partners between range(x,y)"
   ]
  },
  {
   "cell_type": "code",
   "execution_count": null,
   "id": "8e3f7fc1",
   "metadata": {},
   "outputs": [],
   "source": [
    "histplot_classes(df_no_error[df_no_error.post_order.isin(list(range(56,62)))],'set_class', \"13-20\")"
   ]
  },
  {
   "cell_type": "markdown",
   "id": "361099b6",
   "metadata": {},
   "source": [
    "# proportionality histogram by synapses"
   ]
  },
  {
   "cell_type": "markdown",
   "id": "d06be30a",
   "metadata": {},
   "source": [
    "- labels (e.g. local, left_local, etc.) are dataframes obtained via querying gust_downstream_edge for set_class with matching labels, see the section above"
   ]
  },
  {
   "cell_type": "code",
   "execution_count": null,
   "id": "6e81da80",
   "metadata": {},
   "outputs": [],
   "source": [
    "plot_percent_stacked_bar_column(gust_downstream_edge, 'set_class', groupby=['order'])\n",
    "plot_percent_stacked_bar_column(gust_downstream_edge, 'set_class', groupby=['order'], only = all_ascending_labels)"
   ]
  },
  {
   "cell_type": "markdown",
   "id": "56b9b76b",
   "metadata": {},
   "source": [
    "- Fig (1): everything\n",
    "- Fig (2): only ascending"
   ]
  },
  {
   "cell_type": "code",
   "execution_count": null,
   "id": "1833b90a",
   "metadata": {},
   "outputs": [],
   "source": [
    "plot_percent_stacked_bar_column(gust_downstream_edge, 'set_class', groupby=['order'], only=not_ascending_labels)\n",
    "plot_percent_stacked_bar_column(gust_downstream_edge, 'set_class', groupby=['order'], only=intersegmental_labels)"
   ]
  },
  {
   "cell_type": "markdown",
   "id": "69aacc16",
   "metadata": {},
   "source": [
    "- Fig (3): any non-ascending\n",
    "- Fig (4): only intersegmental"
   ]
  },
  {
   "cell_type": "code",
   "execution_count": null,
   "id": "35ab112f",
   "metadata": {},
   "outputs": [],
   "source": [
    "intersegmental_non_ascending_labels = not_ascending[not_ascending.set_class.str.contains('intersegmental',na=False)].set_class.unique()\n",
    "intersegmental_ascending_labels = intersegmental[intersegmental.set_class.str.contains('ascending',na=False)].set_class.unique()\n",
    "bilateral_intersegmental_labels = intersegmental[intersegmental.set_class.str.contains('bilateral',na=False)].set_class.unique()\n",
    "left_intersegmental_labels = intersegmental[intersegmental.set_class.str.contains('left',na=False)].set_class.unique()"
   ]
  },
  {
   "cell_type": "code",
   "execution_count": null,
   "id": "42fcfaf1",
   "metadata": {},
   "outputs": [],
   "source": [
    "plot_percent_stacked_bar_column(gust_downstream_edge, 'set_class', groupby=['order'], only=intersegmental_non_ascending_labels)\n",
    "plot_percent_stacked_bar_column(gust_downstream_edge, 'set_class', groupby=['order'], only=intersegmental_ascending_labels)\n",
    "plot_percent_stacked_bar_column(gust_downstream_edge, 'set_class', groupby=['order'], only=bilateral_intersegmental_labels)\n",
    "plot_percent_stacked_bar_column(gust_downstream_edge, 'set_class', groupby=['order'], only=left_intersegmental_labels)"
   ]
  },
  {
   "cell_type": "code",
   "execution_count": null,
   "id": "a4f0c64b",
   "metadata": {},
   "outputs": [],
   "source": [
    "plot_percent_stacked_bar_column(gust_downstream_edge, 'set_class', groupby=['order'], only=midline_labels)"
   ]
  },
  {
   "cell_type": "markdown",
   "id": "8d4c514d",
   "metadata": {},
   "source": [
    "- Fig (5): only midline"
   ]
  },
  {
   "cell_type": "code",
   "execution_count": null,
   "id": "95c978de",
   "metadata": {},
   "outputs": [],
   "source": [
    "gust_downstream_edge.groupby(['set_class']).size()"
   ]
  },
  {
   "cell_type": "markdown",
   "id": "f28a00cc",
   "metadata": {},
   "source": [
    "#### Conclusion\n",
    "- 0-18: has left_bilateral_ascending | slightly more left_ascending | --> more towards the left\n",
    "- 20-37: more intersegmental_ascending (only 1 notable partner) | also more errors | has 1 right ascending (could be error)| slightly more local_midline_ascending --> in general, more intersegmental --> more contained within the volume\n",
    "- 19: only intersegmental and bilateral_ascending\n",
    "- (there are some labeling errors, there's 1 labeled bilateral_ascending whereas it's only bilateral_intersegmental)"
   ]
  },
  {
   "cell_type": "markdown",
   "id": "52d8efb2",
   "metadata": {},
   "source": [
    "## ENDING"
   ]
  },
  {
   "cell_type": "markdown",
   "id": "37ea272a",
   "metadata": {},
   "source": [
    "## Gust_gust connectivity"
   ]
  },
  {
   "cell_type": "code",
   "execution_count": null,
   "id": "f3f8f5fc",
   "metadata": {},
   "outputs": [],
   "source": [
    "ids_map_gust_gust, conn_mat, clustered_order = connectivity_sort(gust_only_edge, reverted=True)\n",
    "gust_only_edge['pre_order'] = gust_only_edge['pre_pt_root_id'].map(ids_map_gust_gust)\n",
    "gust_only_edge['post_order'] = gust_only_edge['post_pt_root_id'].map(ids_map_gust_gust)"
   ]
  },
  {
   "cell_type": "markdown",
   "id": "06fb3695",
   "metadata": {},
   "source": [
    "### Hardcoded (adjust accordingly)"
   ]
  },
  {
   "cell_type": "code",
   "execution_count": null,
   "id": "37e87c36",
   "metadata": {},
   "outputs": [],
   "source": [
    "dct = {}\n",
    "dct.update(classify_clusters(range(0,7), 0))\n",
    "dct.update(classify_clusters(range(7,13), 1))\n",
    "dct.update(classify_clusters(range(13,26), 2))\n",
    "dct.update(classify_clusters(range(26,37), 3))\n",
    "gust_only_edge['category'] = gust_only_edge['pre_order'].map(dct)\n",
    "gust_id_class = dict(zip(gust_only_edge.pre_pt_root_id, gust_only_edge.category))"
   ]
  },
  {
   "cell_type": "code",
   "execution_count": null,
   "id": "a7f3d8bd",
   "metadata": {},
   "outputs": [],
   "source": [
    "gust_only_df['category'] = gust_only_df['pre_pt_root_id'].map(gust_id_class)"
   ]
  },
  {
   "cell_type": "code",
   "execution_count": null,
   "id": "85a4bf24",
   "metadata": {},
   "outputs": [],
   "source": [
    "plot_entire(gust_only_df.loc[(gust_only_df.category == 2) | (gust_only_df.category == 3)], \"gust_gust_syn_pos\", \n",
    "            gust_only_df.loc[(gust_only_df.category == 2) | (gust_only_df.category == 3)].category)"
   ]
  },
  {
   "cell_type": "markdown",
   "id": "0b055edb",
   "metadata": {},
   "source": [
    "### Resume"
   ]
  },
  {
   "cell_type": "code",
   "execution_count": null,
   "id": "4ae7452c",
   "metadata": {},
   "outputs": [],
   "source": [
    "fig = plt.figure(1, figsize =[20,10])\n",
    "\n",
    "conn_mat_ordered = conn_mat[clustered_order,:]\n",
    "conn_mat_ordered = conn_mat_ordered[:,clustered_order]\n",
    "\n",
    "sns.heatmap(conn_mat_ordered, vmin=1, vmax=20)\n",
    "#f= '../Gust_downstream_syn_connmat_all.png'\n",
    "#plt.savefig(f)\n",
    "plt.show()"
   ]
  },
  {
   "cell_type": "code",
   "execution_count": null,
   "id": "507c10f0",
   "metadata": {},
   "outputs": [],
   "source": [
    "smth1 = gust_downstream_edge.copy()\n",
    "dct_smth = dict(zip(gust_only_edge.pre_pt_root_id, gust_only_edge.pre_order))\n",
    "smth1['gust_gust_order'] = smth1['pre_pt_root_id'].map(dct_smth)"
   ]
  },
  {
   "cell_type": "code",
   "execution_count": null,
   "id": "39d56b81",
   "metadata": {},
   "outputs": [],
   "source": [
    "plot_percent_stacked_bar_column(smth1, 'set_class', groupby=['gust_gust_order'])"
   ]
  },
  {
   "cell_type": "code",
   "execution_count": null,
   "id": "266a0cd9",
   "metadata": {},
   "outputs": [],
   "source": [
    "plot_percent_stacked_bar_column(smth1, 'set_class', groupby=['gust_gust_order'], only=all_ascending_labels)\n",
    "plot_percent_stacked_bar_column(smth1, 'set_class', groupby=['gust_gust_order'], only=intersegmental_labels)\n",
    "plot_percent_stacked_bar_column(smth1, 'set_class', groupby=['gust_gust_order'], only=not_ascending_labels)\n",
    "plot_percent_stacked_bar_column(smth1, 'set_class', groupby=['gust_gust_order'], only=midline_labels)"
   ]
  },
  {
   "cell_type": "markdown",
   "id": "3e5a3065",
   "metadata": {},
   "source": [
    "# Gust-gust assumption classified broadly into 2 groups (hard-coded, adjust by looking at the dendogram to reassign groups)\n",
    "#### Arguing that there's a similar intra-proportion of both groups in one classification system (gust-gust connectivity vs gust-downstream connectivity) given groups in the another classification system "
   ]
  },
  {
   "cell_type": "code",
   "execution_count": null,
   "id": "ce46325d",
   "metadata": {},
   "outputs": [],
   "source": [
    "dct1 = dict(zip(gust_downstream_edge.pre_pt_root_id,gust_downstream_edge.order))\n",
    "dct2 = dict(zip(gust_only_edge.pre_pt_root_id,gust_only_edge.pre_order))"
   ]
  },
  {
   "cell_type": "code",
   "execution_count": null,
   "id": "c9caedb8",
   "metadata": {},
   "outputs": [],
   "source": [
    "gust_gust_group = {}\n",
    "for i in range(13):\n",
    "    gust_gust_group[i] = '1'\n",
    "for i in range(13,37):\n",
    "    gust_gust_group[i] = '2'"
   ]
  },
  {
   "cell_type": "code",
   "execution_count": null,
   "id": "e7efaa10",
   "metadata": {},
   "outputs": [],
   "source": [
    "df_gust_group = pd.DataFrame(index=dct1.keys(), columns=['gust_downstream_order'], data=dct1.values()).reset_index()\n",
    "df_gust_group = df_gust_group.rename({'index':'pre_pt_root_id'}, axis='columns')\n",
    "df_gust_group['gust_downstream_group'] = df_gust_group['gust_downstream_order'].map(gust_downstream_group)\n",
    "df_gust_group['gust_gust_order'] = df_gust_group['pre_pt_root_id'].map(dct2)\n",
    "df_gust_group['gust_gust_group'] = df_gust_group['gust_gust_order'].map(gust_gust_group)"
   ]
  },
  {
   "cell_type": "code",
   "execution_count": null,
   "id": "6d2ebdb1",
   "metadata": {},
   "outputs": [],
   "source": [
    "df_gust_group_edge = df_gust_group.groupby(['gust_downstream_group','gust_gust_group'],\n",
    "             dropna=True).size().sort_values(ascending=False).reset_index(name='count')"
   ]
  },
  {
   "cell_type": "code",
   "execution_count": null,
   "id": "e4113671",
   "metadata": {},
   "outputs": [],
   "source": [
    "sns.histplot(df_gust_group[df_gust_group.gust_downstream_group=='1'], x='gust_downstream_group', \n",
    "             stat='proportion', hue='gust_gust_group',multiple='stack', hue_order=[\"1\",\"2\"])\n",
    "sns.histplot(df_gust_group[df_gust_group.gust_downstream_group=='2'], x='gust_downstream_group', \n",
    "             stat='proportion', hue='gust_gust_group',multiple='stack')"
   ]
  },
  {
   "cell_type": "code",
   "execution_count": null,
   "id": "25bb765f",
   "metadata": {},
   "outputs": [],
   "source": [
    "sns.histplot(df_gust_group[df_gust_group.gust_gust_group=='1'], x='gust_gust_group', \n",
    "             stat='proportion', hue='gust_downstream_group',multiple='stack', hue_order=[\"1\",\"2\"])\n",
    "sns.histplot(df_gust_group[df_gust_group.gust_gust_group=='2'], x='gust_gust_group', \n",
    "             stat='proportion', hue='gust_downstream_group',multiple='stack',hue_order=[\"1\",\"2\"])"
   ]
  },
  {
   "cell_type": "markdown",
   "id": "63ffc23d",
   "metadata": {},
   "source": [
    "## Characterizing each gust from gust_gust based on gust connectivity to other gust"
   ]
  },
  {
   "cell_type": "code",
   "execution_count": null,
   "id": "101311d0",
   "metadata": {},
   "outputs": [],
   "source": [
    "# how to pick between different classes? (Ward linkage)\n",
    "## label them on VNC with different colors?\n",
    "## checks to see (the most common) downstream partners each group is connected to\n",
    "\n",
    "# Question: the argument is that there is high connectivity within one subclass of GRNs, then the downstream partners of GRNs\n",
    "# should not be relevant (or rather, each subclass of GRNs could connect to the same class of downstream partner or different \n",
    "# classes of downstream partners equally)? Then, why should we look for the most common downstream partner of each subclass? "
   ]
  },
  {
   "cell_type": "code",
   "execution_count": null,
   "id": "1d19772a",
   "metadata": {},
   "outputs": [],
   "source": [
    "f = plt.figure(figsize=(30,10))\n",
    "ax = f.add_subplot(1,1,1)\n",
    "\n",
    "sns.histplot(data=gust_only_edge, ax=ax,\n",
    "             x=\"pre_order\", bins = len(gust_only_edge.pre_order.unique()),\n",
    "             palette=\"Paired\", \n",
    "             element=\"bars\", legend=True)\n",
    "ax.set_title(\"Number of Connections onto other Gust\")\n",
    "ax.set_xlabel(\"Gustatory axons\")\n",
    "ax.set_ylabel(\"Number of Connections\") # number of partners connected to\n",
    "# sns.move_legend(ax, \"upper right\",frameon=False,bbox_to_anchor=(1.15, 1))"
   ]
  },
  {
   "cell_type": "code",
   "execution_count": null,
   "id": "e28c26e2",
   "metadata": {},
   "outputs": [],
   "source": [
    "gust_syn = gust_only_edge.groupby(['pre_order']).sum().reset_index()"
   ]
  },
  {
   "cell_type": "code",
   "execution_count": null,
   "id": "65746b99",
   "metadata": {},
   "outputs": [],
   "source": [
    "f = plt.figure(figsize=(30,10))\n",
    "ax = f.add_subplot(1,1,1)\n",
    "\n",
    "sns.barplot(data=gust_syn, x=\"pre_order\",y=\"count\",ax=ax)\n",
    "ax.set_title(\"Synapses onto other Gust\")\n",
    "ax.set_xlabel(\"Gustatory axons\")\n",
    "ax.set_ylabel(\"Number of Synapses\") # number of partners connected to\n",
    "# sns.move_legend(ax, \"upper right\",frameon=False,bbox_to_anchor=(1.15, 1))"
   ]
  },
  {
   "cell_type": "code",
   "execution_count": null,
   "id": "80af3272",
   "metadata": {},
   "outputs": [],
   "source": [
    "# barplots of \"Number of Synapses onto other Gust of a Gust\"\n",
    "def barplot_a_gust(pre_order, df, normalized = True):\n",
    "    if normalized:\n",
    "        f = plt.figure(figsize=(30,10))\n",
    "        ax = f.add_subplot(1,1,1)\n",
    "        df = df[df.pre_order == pre_order]\n",
    "        sns.barplot(data=df, x=\"post_order\", y=\"count\",ax=ax)\n",
    "        ax.set_title(f\"Synapses onto other Gust of {pre_order}\")\n",
    "        ax.set_xlabel(\"Gustatory axon\")\n",
    "        ax.set_ylabel(\"Number of Connections\") # number of partners connected to\n",
    "        plt.ylim(0, 30)\n",
    "    else:\n",
    "        f = plt.figure(figsize=(30,10))\n",
    "        ax = f.add_subplot(1,1,1)\n",
    "        df = df[df.pre_order == pre_order]\n",
    "        sns.barplot(data=df, x=\"post_order\", y=\"count\",ax=ax)\n",
    "        ax.set_title(f\"Synapses onto other Gust of {pre_order}\")\n",
    "        ax.set_xlabel(\"Gustatory axon\")\n",
    "        ax.set_ylabel(\"Number of Connections\") # number of partners connected to"
   ]
  },
  {
   "cell_type": "code",
   "execution_count": null,
   "id": "07691b38",
   "metadata": {},
   "outputs": [],
   "source": [
    "def get_full_edge(df, ids_map):\n",
    "    pre_order_lst = [*df.pre_order.unique()]\n",
    "    post_order_lst = [*df.post_order.unique()]\n",
    "    for i in pre_order_lst:\n",
    "        for j in post_order_lst:\n",
    "            if df.loc[(df.pre_order == i) & (df.post_order == j)]['count'].size < 1:\n",
    "                df2 = pd.DataFrame(np.array([[[g for g in ids_map if ids_map[g]==i], \n",
    "                                              [g for g in ids_map if ids_map[g]==j],\n",
    "                                               0, i, j]]), \n",
    "                                   columns=['pre_pt_root_id', 'post_pt_root_id', 'count', 'pre_order', 'post_order'])\n",
    "                df = pd.concat([df, df2])\n",
    "    return df"
   ]
  },
  {
   "cell_type": "code",
   "execution_count": null,
   "id": "15682264",
   "metadata": {},
   "outputs": [],
   "source": [
    "edge_with_zeros = get_full_edge(gust_only_edge, ids_map_gust_gust)"
   ]
  },
  {
   "cell_type": "code",
   "execution_count": null,
   "id": "9123677d",
   "metadata": {},
   "outputs": [],
   "source": [
    "edge_with_zeros"
   ]
  },
  {
   "cell_type": "code",
   "execution_count": null,
   "id": "cb6d4122",
   "metadata": {},
   "outputs": [],
   "source": [
    "# for i in range(0,len(ids_map_gust_gust)):\n",
    "#     barplot_a_gust(i, edge_with_zeros, normalized = True)"
   ]
  },
  {
   "cell_type": "code",
   "execution_count": null,
   "id": "0197f290",
   "metadata": {
    "scrolled": true
   },
   "outputs": [],
   "source": [
    "# for i in range(0,len(ids_map_gust_gust)):\n",
    "#     barplot_a_gust(i, edge_with_zeros, normalized = False)"
   ]
  },
  {
   "cell_type": "code",
   "execution_count": null,
   "id": "6d54be48",
   "metadata": {},
   "outputs": [],
   "source": [
    "# create a vector encoding gustatory axons' synapses onto downstream partners for each gustatory axon\n",
    "# barplot with downstream partners being x-axis categorical data and y-axis being synapses from each gust (or a group of gust)\n",
    "## onto a downstream partners\n",
    "# allows seeing what downstream partner groups stand out the most for each gust (or group of gust)"
   ]
  },
  {
   "cell_type": "markdown",
   "id": "444a9637",
   "metadata": {},
   "source": [
    "## Change labeling of gust_down_df for gustatory neurons in the df"
   ]
  },
  {
   "cell_type": "code",
   "execution_count": null,
   "id": "93b72342",
   "metadata": {},
   "outputs": [],
   "source": [
    "post_class = np.array(['others']*gust_down_df.shape[0])\n",
    "gust_down_post_gust = gust_down_df.post_pt_root_id.isin(gust_lst).to_numpy()\n",
    "post_class[gust_down_post_gust] = 'gust'\n",
    "gust_down_df['post_class'] = post_class"
   ]
  },
  {
   "cell_type": "markdown",
   "id": "0635d475",
   "metadata": {},
   "source": [
    "## Proportion of inputs and outputs on other gustatory neurons from/to gustatory neurons"
   ]
  },
  {
   "cell_type": "code",
   "execution_count": null,
   "id": "ddf7e6b0",
   "metadata": {},
   "outputs": [],
   "source": [
    "# Get downstream table with labeling of gust and others for gustatory neurons\n",
    "    # Get edge table for pre-post-others and pre-post-gust\n",
    "    # plot hist proportion"
   ]
  },
  {
   "cell_type": "code",
   "execution_count": null,
   "id": "26277db3",
   "metadata": {},
   "outputs": [],
   "source": [
    "# Get downstream table with labeling of gust and others for gustatory neurons\n",
    "# Get edge table for pre-post-others and pre-post-gust\n",
    "gust_dwn_edge = gust_down_df.groupby(['pre_pt_root_id','post_pt_root_id','post_class'], \n",
    "                                     dropna=False).size().sort_values(ascending=False).reset_index(name='count')\n",
    "gust_dwn_edge = gust_dwn_edge.query('count > 3')\n"
   ]
  },
  {
   "cell_type": "code",
   "execution_count": null,
   "id": "c1d44d47",
   "metadata": {},
   "outputs": [],
   "source": [
    "# total\n",
    "gust_dwn_edge_tot = gust_dwn_edge.groupby(['post_class'], dropna=False).sum().reset_index()\n",
    "gust_dwn_edge_tot['proportion'] = gust_dwn_edge_tot['count']/gust_dwn_edge_tot['count'].sum() "
   ]
  },
  {
   "cell_type": "code",
   "execution_count": null,
   "id": "77cfb2e6",
   "metadata": {},
   "outputs": [],
   "source": [
    "gust_dwn_edge_tot.proportion.to_numpy()"
   ]
  },
  {
   "cell_type": "code",
   "execution_count": null,
   "id": "00371a86",
   "metadata": {},
   "outputs": [],
   "source": [
    "sns.set(rc={'figure.figsize':(8,5)})\n",
    "sns.barplot(data=gust_dwn_edge_tot, x=\"post_class\", y='proportion').set(title='proportion of synapses made by gustatory neurons')\n"
   ]
  },
  {
   "cell_type": "code",
   "execution_count": null,
   "id": "03021fd9",
   "metadata": {},
   "outputs": [],
   "source": [
    "sns.set(rc={'figure.figsize':(8,5)})\n",
    "sns.histplot(data=gust_dwn_edge, x='post_class', stat='proportion', \n",
    "             multiple='stack', hue='post_class', hue_order=gust_dwn_edge.post_class.unique()[::-1]).set(title='Total Proportion of Connection Made by Gustatory Neruons')\n"
   ]
  },
  {
   "cell_type": "code",
   "execution_count": null,
   "id": "9288843c",
   "metadata": {},
   "outputs": [],
   "source": [
    "gust_dwn_edge['pre_order'] = gust_dwn_edge['pre_pt_root_id'].map(ids_map_gust_downstream)"
   ]
  },
  {
   "cell_type": "markdown",
   "id": "6ee0c169",
   "metadata": {},
   "source": [
    "### Defines percent_stacked_bar_2 using sns"
   ]
  },
  {
   "cell_type": "code",
   "execution_count": null,
   "id": "17ae9811",
   "metadata": {},
   "outputs": [],
   "source": [
    "[i for i in range(5)]"
   ]
  },
  {
   "cell_type": "code",
   "execution_count": null,
   "id": "dcde6e5e",
   "metadata": {},
   "outputs": [],
   "source": [
    "# df must have column of 'count' for the number of synapses\n",
    "# df: the df to be plotted\n",
    "# by: the list of size 2 of strings of the columns names where by[0] is the column where the \"counts\" are of, \n",
    "#     and by[1] is the column with label/classification of the by[0] to be stacked on top of one another\n",
    "def percent_stacked_bar_2(df, by, tot_missing=False, tot=None):\n",
    "    total = df.groupby(by[0])['count'].sum().reset_index()\n",
    "    if tot_missing:\n",
    "        total = get_full_axon_df(total, total, groupby=by[0][0], tot_missing=tot_missing, tot=tot)\n",
    "    sum_of = list(df[by[1]].unique())\n",
    "    items = []\n",
    "    temp = total.copy() # temp list for culmulative sum of iterated counts of items/labels\n",
    "    temp['count'] = [i/ j * 100 for i,j in zip(temp['count'], total['count'])]\n",
    "    label = []\n",
    "    color_cycle = sns.color_palette(n_colors=len(sum_of))\n",
    "    sns.barplot(x=by[0][0], y='count', data=temp, color=color_cycle[0])\n",
    "    label.append(mpatches.Patch(label=sum_of[0], color=color_cycle[0]))\n",
    "    for i, item in enumerate(sum_of):\n",
    "        items.append(df[df[by[1]]==item].groupby(by[0])['count'].sum().reset_index())\n",
    "        items[i] = get_full_axon_df(total, items[i], groupby=by[0][0])\n",
    "        items[i]['count'] = [i/ j * 100 for i,j in zip(items[i]['count'], total['count'])]\n",
    "        temp['count'] = temp['count'] - items[i]['count']\n",
    "#         items[i]['count'] = (items[i-1]['count'] - items[i]['count'])\n",
    "        if (i+1 < len(sum_of)):\n",
    "            sns.barplot(x=by[0][0],y='count', data=temp, color=color_cycle[i+1]).set(ylabel='Percent of Synapses')\n",
    "            label.append(mpatches.Patch(label=sum_of[i+1], color=color_cycle[i+1]))\n",
    "    plt.legend(handles=label,loc='lower right', bbox_to_anchor=(1,1), ncol=1, prop={\"size\":15})\n",
    "    return items"
   ]
  },
  {
   "cell_type": "code",
   "execution_count": null,
   "id": "915425fe",
   "metadata": {},
   "outputs": [],
   "source": [
    "sns.set(rc={'figure.figsize':(15,8.27)})\n",
    "sns.barplot(data=gust_dwn_edge, x=\"pre_order\", y='count', hue='post_class', estimator = np.sum,\n",
    "            errwidth=0).set(title='number of synapses made by each gustatory neuron')\n",
    "plt.ylim(0,500)"
   ]
  },
  {
   "cell_type": "markdown",
   "id": "c87d433f",
   "metadata": {},
   "source": [
    "### Due to limitations with how percent stack bar plot in this notebook is implemented, bars with 100% blue are acutally ascending bristles (bitter) that makes no connection with any other neuron in the VNC. They're blue 100% by default as a placeholder for empty connection neurons."
   ]
  },
  {
   "cell_type": "code",
   "execution_count": null,
   "id": "3db269cb",
   "metadata": {},
   "outputs": [],
   "source": [
    "dwn_percentage = percent_stacked_bar_2(gust_dwn_edge, [['pre_order'], 'post_class'])"
   ]
  },
  {
   "cell_type": "code",
   "execution_count": null,
   "id": "0cb33a21",
   "metadata": {},
   "outputs": [],
   "source": [
    "# Get upstream table with labeling of gust and others for gustatory neurons\n",
    "    # Get edge table for post-pre-others and post-pre-gust\n",
    "    # plot hist proportion"
   ]
  },
  {
   "cell_type": "code",
   "execution_count": null,
   "id": "be8d0d88",
   "metadata": {},
   "outputs": [],
   "source": [
    "pre_class = np.array(['others']*gust_up_df.shape[0])\n",
    "gust_up_pre_gust = gust_up_df.pre_pt_root_id.isin(gust_lst).to_numpy()\n",
    "pre_class[gust_up_pre_gust] = 'gust'\n",
    "gust_up_df['pre_class'] = pre_class"
   ]
  },
  {
   "cell_type": "code",
   "execution_count": null,
   "id": "f9799509",
   "metadata": {},
   "outputs": [],
   "source": [
    "# groupby post-pre-preclass\n",
    "gust_up_edge = gust_up_df.groupby(['post_pt_root_id','pre_pt_root_id','pre_class'], \n",
    "                                     dropna=False).size().sort_values(ascending=False).reset_index(name='count')\n",
    "gust_up_edge = gust_up_edge.query('count > 3')\n",
    "\n",
    "# total of 'gust' and 'others'\n",
    "gust_up_edge_tot = gust_up_edge.groupby(['pre_class'], dropna=False).sum().reset_index()\n",
    "gust_up_edge_tot['proportion'] = gust_up_edge_tot['count']/gust_up_edge_tot['count'].sum() "
   ]
  },
  {
   "cell_type": "code",
   "execution_count": null,
   "id": "fa9cfb94",
   "metadata": {},
   "outputs": [],
   "source": [
    "gust_up_edge_tot.proportion.to_numpy()"
   ]
  },
  {
   "cell_type": "code",
   "execution_count": null,
   "id": "c2814517",
   "metadata": {},
   "outputs": [],
   "source": [
    "sns.set(rc={'figure.figsize':(8,5)})\n",
    "sns.barplot(data=gust_up_edge_tot, x=\"pre_class\", y='proportion').set(title='proportion of synapses received by gustatory neurons')\n"
   ]
  },
  {
   "cell_type": "code",
   "execution_count": null,
   "id": "a77bf3fa",
   "metadata": {},
   "outputs": [],
   "source": [
    "sns.set(rc={'figure.figsize':(8,5)})\n",
    "sns.histplot(data=gust_up_edge, x='pre_class',stat='proportion',\n",
    "             hue='pre_class').set(title='Total Proportion of Connection Made by Gustatory Neruons')"
   ]
  },
  {
   "cell_type": "code",
   "execution_count": null,
   "id": "0201b2a8",
   "metadata": {},
   "outputs": [],
   "source": [
    "# ordering gustatory neurons by cosine similarity based on their downstream connectivity\n",
    "gust_up_edge['post_order'] = gust_up_edge['post_pt_root_id'].map(ids_map_gust_downstream)"
   ]
  },
  {
   "cell_type": "code",
   "execution_count": null,
   "id": "cf09622a",
   "metadata": {},
   "outputs": [],
   "source": [
    "sns.set(rc={'figure.figsize':(15,8.27)})\n",
    "sns.barplot(data=gust_up_edge, x=\"post_order\", y='count', hue='pre_class', estimator=np.sum,\n",
    "            errwidth=0).set(title='number of synapses received by each gustatory neuron')"
   ]
  },
  {
   "cell_type": "code",
   "execution_count": null,
   "id": "482c2761",
   "metadata": {},
   "outputs": [],
   "source": [
    "up_percentage = percent_stacked_bar_2(gust_up_edge, [['post_order'], 'pre_class'])"
   ]
  },
  {
   "cell_type": "markdown",
   "id": "1e586119",
   "metadata": {},
   "source": [
    "### Analysis of proportion of synapses based on 'gust' and 'others' without some post_pt_root_id"
   ]
  },
  {
   "cell_type": "code",
   "execution_count": null,
   "id": "b9c05129",
   "metadata": {},
   "outputs": [],
   "source": [
    "gust_rows = [pd.DataFrame({'id':'na','created':'na',\n",
    "                           'superceded_id':'na', 'valid':'na',\n",
    "                           'classification_system':'gust',\n",
    "                            'cell_type':'na',\n",
    "                            'pt_supervoxel_id':'na',\n",
    "                            'pt_root_id':[i],\n",
    "                            'pt_position':'na'}) for i in gust_lst]\n",
    "gust_rows = pd.concat(gust_rows, axis=0).reset_index().iloc[:,1:]\n",
    "full_final_class_df = final_class_df.copy()\n",
    "full_final_class_df = append_set_class_col(full_final_class_df, 'classification_system')\n",
    "# full_final_class_df = pd.concat([full_final_class_df, gust_rows]).reset_index(drop=True)"
   ]
  },
  {
   "cell_type": "code",
   "execution_count": null,
   "id": "c3834572",
   "metadata": {},
   "outputs": [],
   "source": [
    "without_some = pd.merge(gust_dwn_edge,full_final_class_df, \n",
    "                                      left_on='post_pt_root_id', right_on='pt_root_id')[['pre_pt_root_id',\n",
    "                                                                                         'post_pt_root_id',\n",
    "                                                                                         'post_class',\n",
    "                                                                                         'classification_system',\n",
    "                                                                                         'pre_order',\n",
    "                                                                                         'set_class',\n",
    "                                                                                         'count']]\n",
    "without_some['gust_order'] = without_some['pre_pt_root_id'].map(ids_map_gust_gust)"
   ]
  },
  {
   "cell_type": "code",
   "execution_count": null,
   "id": "683ce20f",
   "metadata": {},
   "outputs": [],
   "source": [
    "without_some = without_some.loc[without_some.set_class!='error']\n",
    "without_some_gust = without_some.loc[without_some.set_class!='gustatory'] # removing gustatory"
   ]
  },
  {
   "cell_type": "code",
   "execution_count": null,
   "id": "905aa649",
   "metadata": {},
   "outputs": [],
   "source": [
    "ids_order_gust_map, conn_mat_gust, gust_clustered_order_gust_gust = connectivity_sort(gust_only_edge, reverted=True)"
   ]
  },
  {
   "cell_type": "code",
   "execution_count": null,
   "id": "e000b40b",
   "metadata": {},
   "outputs": [],
   "source": [
    "ids_order_everything_map, conn_mat_everything, gust_clustered_order_everything = connectivity_sort(without_some_gust)"
   ]
  },
  {
   "cell_type": "code",
   "execution_count": null,
   "id": "a3d30b3a",
   "metadata": {},
   "outputs": [],
   "source": [
    "gust_pre = without_some.pre_pt_root_id.unique().tolist()\n",
    "gust_sim_mat = cosine_similarity(conn_mat_gust)\n",
    "gust_clustered_order_gust_gust = get_clustered_order(gust_sim_mat)\n",
    "gust_ids_ordered = [gust_pre[i] for i in gust_clustered_order_gust_gust]\n",
    "\n",
    "sim_mat = gust_sim_mat[gust_clustered_order_gust_gust,:]\n",
    "sim_mat = sim_mat[:,gust_clustered_order_gust_gust]\n",
    "sns.heatmap(sim_mat)\n",
    "sns.set(rc={'figure.figsize':(11.7,8.27)})\n",
    "plt.show()"
   ]
  },
  {
   "cell_type": "code",
   "execution_count": null,
   "id": "9731bd4c",
   "metadata": {},
   "outputs": [],
   "source": [
    "lst_gust = gust_only_edge.pre_pt_root_id.unique().tolist()\n",
    "lst_all = without_some.pre_pt_root_id.unique().tolist()\n",
    "lst_gust_pos_map = dict(zip(lst_gust,[i for i in range(0,len(lst_gust))]))\n",
    "original_order = [lst_gust_pos_map[i] for i in lst_all]\n",
    "gust_only_sim_mat_by_everything = gust_sim_mat[original_order, :]\n",
    "gust_only_sim_mat_by_everything = gust_only_sim_mat_by_everything[:, original_order]"
   ]
  },
  {
   "cell_type": "code",
   "execution_count": null,
   "id": "50f1bbbe",
   "metadata": {},
   "outputs": [],
   "source": [
    "gust_only_sim_mat_by_everything = gust_only_sim_mat_by_everything[gust_clustered_order_everything,:]\n",
    "gust_only_sim_mat_by_everything = gust_only_sim_mat_by_everything[:,gust_clustered_order_everything]\n",
    "sns.heatmap(gust_only_sim_mat_by_everything)\n",
    "plt.show()"
   ]
  },
  {
   "cell_type": "code",
   "execution_count": null,
   "id": "f1e9cdda",
   "metadata": {},
   "outputs": [],
   "source": [
    "conn_mat_gust_by_gust = conn_mat_gust[gust_clustered_order_gust_gust,:]\n",
    "conn_mat_gust_by_gust = conn_mat_gust_by_gust[:,gust_clustered_order_gust_gust]\n",
    "sns.heatmap(conn_mat_gust_by_gust, vmin=1, vmax=20)\n",
    "plt.show()"
   ]
  },
  {
   "cell_type": "code",
   "execution_count": null,
   "id": "e108850d",
   "metadata": {},
   "outputs": [],
   "source": [
    "lst_gust = gust_only_edge.pre_pt_root_id.unique().tolist()\n",
    "lst_all = without_some.pre_pt_root_id.unique().tolist()\n",
    "lst_gust_pos_map = dict(zip(lst_gust,[i for i in range(0,len(lst_gust))]))\n",
    "original_order = [lst_gust_pos_map[i] for i in lst_all]\n",
    "conn_mat_gust_by_all = conn_mat_gust[original_order, :]\n",
    "conn_mat_gust_by_all = conn_mat_gust_by_all[:, original_order]"
   ]
  },
  {
   "cell_type": "code",
   "execution_count": null,
   "id": "6645d819",
   "metadata": {},
   "outputs": [],
   "source": [
    "conn_mat_gust_by_all = conn_mat_gust_by_all[gust_clustered_order_everything,:]\n",
    "conn_mat_gust_by_all = conn_mat_gust_by_all[:,gust_clustered_order_everything]\n",
    "sns.heatmap(conn_mat_gust_by_all, vmin=1, vmax=20)\n",
    "plt.show()"
   ]
  },
  {
   "cell_type": "code",
   "execution_count": null,
   "id": "e8d7040c",
   "metadata": {},
   "outputs": [],
   "source": [
    "gust_everything_sim_mat = cosine_similarity(conn_mat_everything)\n",
    "\n",
    "sim_mat = gust_everything_sim_mat[gust_clustered_order_everything,:]\n",
    "sim_mat = sim_mat[:,gust_clustered_order_everything]\n",
    "sns.heatmap(sim_mat)\n",
    "plt.show()"
   ]
  },
  {
   "cell_type": "code",
   "execution_count": null,
   "id": "abd08d1d",
   "metadata": {},
   "outputs": [],
   "source": [
    "len(without_some.post_pt_root_id.unique())"
   ]
  },
  {
   "cell_type": "code",
   "execution_count": null,
   "id": "471f1833",
   "metadata": {},
   "outputs": [],
   "source": [
    "without_some_and = without_some.loc[~((without_some.set_class.str.contains('bilateral')) &\n",
    "                                    (without_some.set_class.str.contains('intersegmental')))]"
   ]
  },
  {
   "cell_type": "code",
   "execution_count": null,
   "id": "270bc537",
   "metadata": {},
   "outputs": [],
   "source": [
    "sns.set(rc={'figure.figsize':(15,8.27)})\n",
    "sns.barplot(data=without_some, x=\"pre_order\", y='count', hue='post_class', estimator = np.sum,\n",
    "            errwidth=0).set(title='number of synapses made by each gustatory neuron with some downstream partners excluded')\n",
    "plt.ylim(0, 500)"
   ]
  },
  {
   "cell_type": "code",
   "execution_count": null,
   "id": "f32db00c",
   "metadata": {},
   "outputs": [],
   "source": [
    "dwn_percent_without_some = percent_stacked_bar_2(without_some, [['pre_order'], 'post_class'])"
   ]
  },
  {
   "cell_type": "markdown",
   "id": "a2f86deb",
   "metadata": {},
   "source": [
    "###  When computing average percentage of connection of a group, only use dwn_percent_without_some[1] because that's the percentage of gust-gust connectivity that has shows 0% where bitter neurons are. Otherwise, gust-others where bitter neurons are 100% according to the table, which is not true because bitter neurons make no connection whatsoever in the VNC.\n",
    "- adjust ranges accordingly. Hard-coded here"
   ]
  },
  {
   "cell_type": "code",
   "execution_count": null,
   "id": "8db65b5e",
   "metadata": {},
   "outputs": [],
   "source": [
    "dwn_percent_without_some[1].loc[(dwn_percent_without_some[1].pre_order.isin(range(24)))]['count'].sum()/24"
   ]
  },
  {
   "cell_type": "code",
   "execution_count": null,
   "id": "d4ebd3a4",
   "metadata": {},
   "outputs": [],
   "source": [
    "without_some_and.groupby(['set_class']).size()"
   ]
  },
  {
   "cell_type": "code",
   "execution_count": null,
   "id": "d35757e7",
   "metadata": {},
   "outputs": [],
   "source": [
    "without_some_and.groupby(['post_class']).size()"
   ]
  },
  {
   "cell_type": "code",
   "execution_count": null,
   "id": "3a89f612",
   "metadata": {},
   "outputs": [],
   "source": [
    "sns.set(rc={'figure.figsize':(15,8.27)})\n",
    "plt_without_some_and = sns.barplot(data=without_some_and, x=\"pre_order\", y='count', hue='post_class', estimator = np.sum,\n",
    "            errwidth=0).set(title='number of synapses made by each gustatory neuron without bilateral intersegmental')\n",
    "plt.ylim(0, 500)"
   ]
  },
  {
   "cell_type": "code",
   "execution_count": null,
   "id": "64db5781",
   "metadata": {},
   "outputs": [],
   "source": [
    "dwn_percent_without_bilateral_intersegmental=percent_stacked_bar_2(without_some_and, \n",
    "                                                                   [['pre_order'], 'post_class'], \n",
    "                                                                   tot_missing=True, tot=38)\n",
    "sns.set(rc={'figure.figsize':(11.7,8.27)})\n"
   ]
  },
  {
   "cell_type": "code",
   "execution_count": null,
   "id": "27898aac",
   "metadata": {},
   "outputs": [],
   "source": [
    "sns.set(rc={'figure.figsize':(15,8.27)})\n",
    "sns.barplot(data=without_some, x=\"gust_order\", y='count', hue='post_class', estimator = np.sum,\n",
    "            errwidth=0).set(title='number of synapses made by each gustatory neuron ordered on gustatory order')\n",
    "plt.ylim(0, 500)"
   ]
  },
  {
   "cell_type": "code",
   "execution_count": null,
   "id": "9eac4c5e",
   "metadata": {},
   "outputs": [],
   "source": [
    "nothing = percent_stacked_bar_2(without_some, [['gust_order'], 'post_class'])"
   ]
  },
  {
   "cell_type": "code",
   "execution_count": null,
   "id": "c586c7ab",
   "metadata": {},
   "outputs": [],
   "source": [
    "only_bilateral = without_some.loc[((without_some.set_class.str.contains('bilateral')) &\n",
    "                                    (without_some.set_class.str.contains('intersegmental')))]\n",
    "missing = without_some[~without_some.pre_pt_root_id.isin(only_bilateral.pre_pt_root_id.unique())]\n",
    "missing_pt_root_id = [*missing.pre_pt_root_id.unique()]\n",
    "missing_pre_order = [*missing.pre_order.unique()]\n",
    "missing_gust_order = [*missing.gust_order.unique()]\n",
    "\n",
    "only_bilateral_missing = pd.DataFrame({'pre_pt_root_id':missing_pt_root_id,'post_pt_root_id':'na',\n",
    "                                       'post_class':'na', 'classification_system':'na',\n",
    "                                       'pre_order':missing_pre_order,\n",
    "                                       'count':[*np.zeros(len(missing_pt_root_id)).astype('int32')],\n",
    "                                       'gust_order':missing_gust_order})\n",
    "only_bilateral = only_bilateral.sort_values(by='set_class')\n",
    "only_bilateral = pd.concat([only_bilateral, only_bilateral_missing])\n",
    "\n",
    "ids_order_map, conn_mat_bilateral, gust_clustered_order_bilateral = connectivity_sort(only_bilateral) #conn_mat_bilateral connectivity matrix\n",
    "gust_bilateral_sim_mat = cosine_similarity(conn_mat_bilateral) #gust_sim_mat_bilateral similarity matrix wrt gustatory"
   ]
  },
  {
   "cell_type": "code",
   "execution_count": null,
   "id": "67e2c061",
   "metadata": {},
   "outputs": [],
   "source": [
    "fig = plt.figure(1, figsize =[12,10])\n",
    "gust_bilateral_sim_mat_by_bilateral = gust_bilateral_sim_mat[gust_clustered_order_bilateral,:]\n",
    "gust_bilateral_sim_mat_by_bilateral = gust_bilateral_sim_mat_by_bilateral[:,gust_clustered_order_bilateral]\n",
    "sns.heatmap(gust_bilateral_sim_mat_by_bilateral)\n",
    "plt.show()"
   ]
  },
  {
   "cell_type": "code",
   "execution_count": null,
   "id": "8170477c",
   "metadata": {},
   "outputs": [],
   "source": [
    "lst_bilateral = only_bilateral.pre_pt_root_id.unique().tolist()\n",
    "lst_all = without_some.pre_pt_root_id.unique().tolist()\n",
    "lst_bilateral_pos_map = dict(zip(lst_bilateral,[i for i in range(0,len(lst_bilateral))]))\n",
    "original_order = [lst_bilateral_pos_map[i] for i in lst_all]\n",
    "gust_bilateral_sim_mat_by_everything = gust_bilateral_sim_mat[original_order,:]\n",
    "gust_bilateral_sim_mat_by_everything = gust_bilateral_sim_mat_by_everything[:,original_order]"
   ]
  },
  {
   "cell_type": "code",
   "execution_count": null,
   "id": "fc8491d7",
   "metadata": {},
   "outputs": [],
   "source": [
    "without_some.pre_pt_root_id.unique()"
   ]
  },
  {
   "cell_type": "code",
   "execution_count": null,
   "id": "57b6fcf6",
   "metadata": {},
   "outputs": [],
   "source": [
    "only_bilateral.pre_pt_root_id.unique()[original_order]"
   ]
  },
  {
   "cell_type": "code",
   "execution_count": null,
   "id": "bb1149a5",
   "metadata": {},
   "outputs": [],
   "source": [
    "only_bilateral.post_pt_root_id.unique()"
   ]
  },
  {
   "cell_type": "code",
   "execution_count": null,
   "id": "679978de",
   "metadata": {},
   "outputs": [],
   "source": [
    "fig = plt.figure(1, figsize =[12,10])\n",
    "gust_bilateral_sim_mat_by_everything = gust_bilateral_sim_mat_by_everything[gust_clustered_order_everything,:]\n",
    "gust_bilateral_sim_mat_by_everything = gust_bilateral_sim_mat_by_everything[:,gust_clustered_order_everything]\n",
    "sns.heatmap(gust_bilateral_sim_mat_by_everything)\n",
    "plt.show()"
   ]
  },
  {
   "cell_type": "code",
   "execution_count": null,
   "id": "c7f8eb7a",
   "metadata": {},
   "outputs": [],
   "source": [
    "fig = plt.figure(1, figsize =[12,10])\n",
    "conn_mat_bilateral_by_bilateral = conn_mat_bilateral[gust_clustered_order_bilateral,:]\n",
    "sns.heatmap(conn_mat_bilateral_by_bilateral)\n",
    "plt.show()"
   ]
  },
  {
   "cell_type": "code",
   "execution_count": null,
   "id": "32689da0",
   "metadata": {},
   "outputs": [],
   "source": [
    "lst_bilateral = only_bilateral.pre_pt_root_id.unique().tolist()\n",
    "lst_all = without_some.pre_pt_root_id.unique().tolist()\n",
    "lst_bilateral_pos_map = dict(zip(lst_bilateral,[i for i in range(0,len(lst_bilateral))]))\n",
    "original_order = [lst_bilateral_pos_map[i] for i in lst_all]\n",
    "gust_bilateral_conn_mat_by_everything = conn_mat_bilateral[original_order]"
   ]
  },
  {
   "cell_type": "code",
   "execution_count": null,
   "id": "e7c35d7d",
   "metadata": {},
   "outputs": [],
   "source": [
    "fig = plt.figure(1, figsize =[12,10])\n",
    "gust_bilateral_conn_mat_by_everything = gust_bilateral_conn_mat_by_everything[gust_clustered_order_everything,:]\n",
    "sns.heatmap(gust_bilateral_conn_mat_by_everything)\n",
    "plt.show()"
   ]
  },
  {
   "cell_type": "code",
   "execution_count": null,
   "id": "971f65e6",
   "metadata": {},
   "outputs": [],
   "source": [
    "ids_order_everything_map, conn_mat_everything, gust_clustered_order_everything = connectivity_sort(without_some)"
   ]
  },
  {
   "cell_type": "code",
   "execution_count": null,
   "id": "8d6564ea",
   "metadata": {},
   "outputs": [],
   "source": [
    "conn_mat_everything_by_all = conn_mat_everything[gust_clustered_order_everything,:]\n",
    "sns.heatmap(conn_mat_everything_by_all)\n",
    "plt.show()"
   ]
  },
  {
   "cell_type": "code",
   "execution_count": null,
   "id": "c66f4f9b",
   "metadata": {},
   "outputs": [],
   "source": [
    "lst_bilateral = only_bilateral.pre_pt_root_id.unique().tolist()\n",
    "lst_all = without_some.pre_pt_root_id.unique().tolist()\n",
    "lst_all_pos_map = dict(zip(lst_all,[i for i in range(0,len(lst_all))]))\n",
    "original_order = [lst_all_pos_map[i] for i in lst_bilateral]\n",
    "conn_mat_everything_by_bilateral = conn_mat_everything[original_order]"
   ]
  },
  {
   "cell_type": "code",
   "execution_count": null,
   "id": "a638a506",
   "metadata": {},
   "outputs": [],
   "source": [
    "conn_mat_everything_by_bilateral = conn_mat_everything_by_bilateral[gust_clustered_order_bilateral,:]\n",
    "sns.heatmap(conn_mat_everything_by_bilateral)\n",
    "plt.show()"
   ]
  },
  {
   "cell_type": "code",
   "execution_count": null,
   "id": "c89e5334",
   "metadata": {},
   "outputs": [],
   "source": [
    "without_some_edge = without_some.groupby(['gust_order']).sum().reset_index()\n",
    "\n",
    "ascending = without_some[without_some.set_class.str.contains('ascending')]\n",
    "ascending_edge = ascending.groupby(['gust_order']).sum().reset_index()\n",
    "synapse_ascending = get_full_axon_df(without_some_edge,ascending_edge, groupby='gust_order')\n",
    "\n",
    "intersegmental = without_some[without_some.set_class.str.contains('intersegmental')]\n",
    "intersegmental_edge = intersegmental.groupby(['gust_order']).sum().reset_index()\n",
    "synapse_intersegmental = get_full_axon_df(without_some_edge,intersegmental_edge, groupby='gust_order')\n",
    "\n",
    "gustatory = without_some[without_some.set_class.str.contains('gustatory')]\n",
    "gustatory_edge = gustatory.groupby(['gust_order']).sum().reset_index()\n",
    "synapse_gustatory = get_full_axon_df(without_some_edge,gustatory_edge, groupby='gust_order')\n",
    "\n",
    "left = without_some[without_some.set_class.str.contains('left')]\n",
    "left_edge = left.groupby(['gust_order']).sum().reset_index()\n",
    "synapse_left = get_full_axon_df(without_some_edge,left_edge, groupby='gust_order')\n",
    "\n",
    "bilateral = without_some[without_some.set_class.str.contains('bilateral')]\n",
    "bilateral_edge = bilateral.groupby(['gust_order']).sum().reset_index()\n",
    "synapse_bilateral = get_full_axon_df(without_some_edge,bilateral_edge, groupby='gust_order')"
   ]
  },
  {
   "cell_type": "code",
   "execution_count": null,
   "id": "a12808a9",
   "metadata": {},
   "outputs": [],
   "source": [
    "plt.figure()\n",
    "sns.barplot(data=synapse_ascending, x=\"gust_order\", y='count', estimator = np.sum,\n",
    "            errwidth=0, color='red').set(title='ascending', ylim=(0,400))\n",
    "\n",
    "plt.figure()\n",
    "sns.barplot(data=synapse_intersegmental, x=\"gust_order\", y='count', estimator = np.sum,\n",
    "            errwidth=0, color='violet').set(title='intersegmental', ylim=(0,400))\n",
    "\n",
    "plt.figure()\n",
    "sns.barplot(data=synapse_gustatory, x=\"gust_order\", y='count', estimator = np.sum,\n",
    "            errwidth=0, color='green').set(title='Gustatory', ylim=(0,400))\n",
    "\n",
    "plt.figure()\n",
    "sns.barplot(data=synapse_left, x=\"gust_order\", y='count', estimator = np.sum,\n",
    "            errwidth=0, color='orange').set(title='left', ylim=(0,400))\n",
    "\n",
    "plt.figure()\n",
    "sns.barplot(data=synapse_bilateral, x=\"gust_order\", y='count', estimator = np.sum,\n",
    "            errwidth=0, color='purple').set(title='bilateral', ylim=(0,400))"
   ]
  },
  {
   "cell_type": "code",
   "execution_count": null,
   "id": "2951be57",
   "metadata": {},
   "outputs": [],
   "source": [
    "ascending_edge = ascending.groupby(['pre_order']).sum().reset_index()\n",
    "synapse_ascending_by_downstream = get_full_axon_df(without_some_edge,ascending_edge, groupby='pre_order')\n",
    "\n",
    "intersegmental_edge = intersegmental.groupby(['pre_order']).sum().reset_index()\n",
    "synapse_intersegmental_by_downstream = get_full_axon_df(without_some_edge,intersegmental_edge, groupby='pre_order')\n",
    "\n",
    "gustatory_edge = gustatory.groupby(['pre_order']).sum().reset_index()\n",
    "synapse_gustatory_by_downstream = get_full_axon_df(without_some_edge,gustatory_edge, groupby='pre_order')\n",
    "\n",
    "left_edge = left.groupby(['pre_order']).sum().reset_index()\n",
    "synapse_left_by_downstream = get_full_axon_df(without_some_edge,left_edge, groupby='pre_order')\n",
    "\n",
    "bilateral_edge = bilateral.groupby(['pre_order']).sum().reset_index()\n",
    "synapse_bilateral_by_downstream = get_full_axon_df(without_some_edge,bilateral_edge, groupby='pre_order')"
   ]
  },
  {
   "cell_type": "code",
   "execution_count": null,
   "id": "144ab394",
   "metadata": {},
   "outputs": [],
   "source": [
    "plt.figure()\n",
    "sns.barplot(data=synapse_ascending_by_downstream, x=\"pre_order\", y='count', estimator = np.sum,\n",
    "            errwidth=0, color='red').set(title='ascending', ylim=(0,400))\n",
    "\n",
    "plt.figure()\n",
    "sns.barplot(data=synapse_intersegmental_by_downstream, x=\"pre_order\", y='count', estimator = np.sum,\n",
    "            errwidth=0, color='violet').set(title='intersegmental', ylim=(0,400))\n",
    "\n",
    "plt.figure()\n",
    "sns.barplot(data=synapse_gustatory_by_downstream, x=\"pre_order\", y='count', estimator = np.sum,\n",
    "            errwidth=0, color='green').set(title='gustatory', ylim=(0,400))\n",
    "\n",
    "plt.figure()\n",
    "sns.barplot(data=synapse_left_by_downstream, x=\"pre_order\", y='count', estimator = np.sum,\n",
    "            errwidth=0, color='orange').set(title='left', ylim=(0,400))\n",
    "\n",
    "plt.figure()\n",
    "sns.barplot(data=synapse_bilateral_by_downstream, x=\"pre_order\", y='count', estimator = np.sum,\n",
    "            errwidth=0, color='purple').set(title='bilateral', ylim=(0,400))"
   ]
  },
  {
   "cell_type": "markdown",
   "id": "73091ecc",
   "metadata": {},
   "source": [
    "### Assigning labels (gust-gust groups) and (gust-downstream groups) (Hard-coded! Adjust accordingly based on new groups)"
   ]
  },
  {
   "cell_type": "code",
   "execution_count": null,
   "id": "0916017d",
   "metadata": {},
   "outputs": [],
   "source": [
    "gust_gust_group_dct = {}\n",
    "gust_gust_group_dct.update(classify_clusters(range(0,30), 'G1'))\n",
    "gust_gust_group_dct.update(classify_clusters(range(30,35), 'G2' ))\n",
    "gust_gust_group_dct.update(classify_clusters(range(35,len(without_some.gust_order.unique()+1)), 'G3'))\n",
    "\n",
    "gust_downstream_group_dct = {}\n",
    "gust_downstream_group_dct.update(classify_clusters(range(0,24), 'D1' ))\n",
    "gust_downstream_group_dct.update(classify_clusters(range(24,29), 'D2'))\n",
    "gust_downstream_group_dct.update(classify_clusters(range(29,len(without_some.pre_order.unique())), 'D3'))\n",
    "\n",
    "without_some['gust_gust_cluster_group'] = without_some['gust_order'].map(gust_gust_group_dct)\n",
    "without_some['gust_downstream_cluster_group'] = without_some['pre_order'].map(gust_downstream_group_dct)\n",
    "\n",
    "# combining both cluster groups into a combined group represented by a column for the without_some df\n",
    "combined_cluster_lst= np.vstack([without_some.gust_gust_cluster_group,without_some.gust_downstream_cluster_group]).T.tolist()\n",
    "combined_cluster_lst = [','.join(i) for i in combined_cluster_lst]\n",
    "combined_cluster_dct = dict(zip(without_some.pre_pt_root_id,combined_cluster_lst))\n",
    "without_some['combined_group'] = without_some['pre_pt_root_id'].map(combined_cluster_dct)"
   ]
  },
  {
   "cell_type": "code",
   "execution_count": null,
   "id": "e7547c4b",
   "metadata": {},
   "outputs": [],
   "source": [
    "combined_cluster_lst"
   ]
  },
  {
   "cell_type": "code",
   "execution_count": null,
   "id": "f511f8b3",
   "metadata": {},
   "outputs": [],
   "source": [
    "dct_color = dict(zip(without_some.gust_downstream_cluster_group.unique(),sns.color_palette(\"husl\", 3)))\n",
    "without_some['color'] = without_some['gust_downstream_cluster_group'].map(dct_color)"
   ]
  },
  {
   "cell_type": "code",
   "execution_count": null,
   "id": "f8a6dc97",
   "metadata": {},
   "outputs": [],
   "source": [
    "sum_df = without_some.groupby(['combined_group','set_class']).sum()\n",
    "sum_dict = without_some.groupby(['combined_group'])['count'].sum().to_dict()\n",
    "post_sum_dict = without_some.groupby(['set_class'])['count'].sum().to_dict()\n",
    "fracts = []\n",
    "for ix,i in sum_df.iterrows():\n",
    "    l = ix[0]\n",
    "    count = i['count']\n",
    "    fract = count/sum_dict[l]\n",
    "    fracts.append(fract)\n",
    "    \n",
    "sum_df['fract_synapses'] = fracts"
   ]
  },
  {
   "cell_type": "code",
   "execution_count": null,
   "id": "67ca61b2",
   "metadata": {},
   "outputs": [],
   "source": [
    "# ascending_dct = dict(zip(without_some.post_pt_root_id, without_some.classification_system.str.contains('ascending')))\n",
    "# bilateral_dct = dict(zip(without_some.post_pt_root_id, without_some.classification_system.str.contains('bilateral')))\n",
    "# intersegmental_dct = dict(zip(without_some.post_pt_root_id, without_some.classification_system.str.contains('intersegmental')))\n",
    "# gustatory_dct = dict(zip(without_some.post_pt_root_id, without_some.classification_system.str.contains('gustatory')))\n",
    "# left_dct = dict(zip(without_some.post_pt_root_id, without_some.classification_system.str.contains('left')))\n",
    "\n",
    "# without_some['ascending'] = without_some.post_pt_root_id.map(ascending_dct)\n",
    "# without_some['bilateral'] = without_some.post_pt_root_id.map(bilateral_dct)\n",
    "# without_some['intersegmental'] = without_some.post_pt_root_id.map(intersegmental_dct)\n",
    "# without_some['gustatory'] = without_some.post_pt_root_id.map(gustatory_dct)\n",
    "# without_some['left'] = without_some.post_pt_root_id.map(left_dct)"
   ]
  },
  {
   "cell_type": "markdown",
   "id": "9ee217f0",
   "metadata": {},
   "source": [
    "### Testing"
   ]
  },
  {
   "cell_type": "code",
   "execution_count": null,
   "id": "ea2677d1",
   "metadata": {},
   "outputs": [],
   "source": [
    "ascending_df = without_some[without_some.set_class.str.contains('ascending')]\n",
    "ascending_df['overarching_class'] = np.repeat('ascending',ascending_df.shape[0])\n",
    "\n",
    "intersegmental_df = without_some[without_some.set_class.str.contains('intersegmental')]\n",
    "intersegmental_df['overarching_class'] = np.repeat('intersegmental',intersegmental_df.shape[0])\n",
    "\n",
    "bilateral_df = without_some[without_some.set_class.str.contains('bilateral')]\n",
    "bilateral_df['overarching_class'] = np.repeat('bilateral',bilateral_df.shape[0])\n",
    "\n",
    "gustatory_df = without_some[without_some.set_class.str.contains('gustatory')]\n",
    "gustatory_df['overarching_class'] = np.repeat('gustatory',gustatory_df.shape[0])\n",
    "\n",
    "left_df = without_some[without_some.set_class.str.contains('left')]\n",
    "left_df['overarching_class'] = np.repeat('left',left_df.shape[0])\n"
   ]
  },
  {
   "cell_type": "code",
   "execution_count": null,
   "id": "f36c197f",
   "metadata": {},
   "outputs": [],
   "source": [
    "overall = pd.concat([ascending_df,intersegmental_df,bilateral_df,gustatory_df,left_df])"
   ]
  },
  {
   "cell_type": "code",
   "execution_count": null,
   "id": "3bf0d6de",
   "metadata": {},
   "outputs": [],
   "source": [
    "ascending_df.groupby(['combined_group','color','overarching_class']).sum()"
   ]
  },
  {
   "cell_type": "code",
   "execution_count": null,
   "id": "d77ebc95",
   "metadata": {},
   "outputs": [],
   "source": [
    "ascending_df.groupby(['combined_group','color','overarching_class']).sum()['count'].sum()"
   ]
  },
  {
   "cell_type": "code",
   "execution_count": null,
   "id": "8990b16a",
   "metadata": {},
   "outputs": [],
   "source": [
    "overall.groupby(['overarching_class'])['count'].sum().to_dict()"
   ]
  },
  {
   "cell_type": "code",
   "execution_count": null,
   "id": "ebfdd91a",
   "metadata": {},
   "outputs": [],
   "source": [
    "overall_sum = overall.groupby(['combined_group','color','overarching_class']).sum()\n",
    "sum_dict = without_some.groupby(['combined_group'])['count'].sum().to_dict()\n",
    "post_sum_dict = overall.groupby(['overarching_class'])['count'].sum().to_dict()\n",
    "fracts = []\n",
    "for ix,i in overall_sum.iterrows():\n",
    "    l = ix[0]\n",
    "    count = i['count']\n",
    "    fract = count/sum_dict[l]\n",
    "    fracts.append(fract)\n",
    "    \n",
    "overall_sum['fract_synapses'] = fracts"
   ]
  },
  {
   "cell_type": "code",
   "execution_count": null,
   "id": "54ed9659",
   "metadata": {},
   "outputs": [],
   "source": [
    "overall_sum.head(10)"
   ]
  },
  {
   "cell_type": "code",
   "execution_count": null,
   "id": "0de1a50f",
   "metadata": {},
   "outputs": [],
   "source": [
    "overall_sum_by_Ds = overall_sum.reset_index()\n",
    "overall_sum_by_Ds = overall_sum_by_Ds[overall_sum_by_Ds.combined_group!='G2,D2']\n",
    "overall_sum_by_Ds['combined_group'] = overall_sum_by_Ds['combined_group'].replace({'G1,D1':'D1','G3,D1':'D1','G3,D3':'D3','G1,D3':'D3'})"
   ]
  },
  {
   "cell_type": "code",
   "execution_count": null,
   "id": "90c410c8",
   "metadata": {},
   "outputs": [],
   "source": [
    "sns.violinplot(data=overall_sum_by_Ds, x=\"overarching_class\", y=\"count\", hue='combined_group', split=True)"
   ]
  },
  {
   "cell_type": "code",
   "execution_count": null,
   "id": "ae37e6a7",
   "metadata": {},
   "outputs": [],
   "source": [
    "overall_sum_by_Gs = overall_sum.reset_index()\n",
    "overall_sum_by_Gs = overall_sum_by_Gs[overall_sum_by_Gs.combined_group!='G2,D2']\n",
    "overall_sum_by_Gs['combined_group'] = overall_sum_by_Gs['combined_group'].replace({'G1,D1':'G1','G1,D3':'G1','G3,D1':'G3','G3,D3':'G3'})"
   ]
  },
  {
   "cell_type": "code",
   "execution_count": null,
   "id": "d9d24f18",
   "metadata": {},
   "outputs": [],
   "source": [
    "sns.violinplot(data=overall_sum_by_Gs, x=\"overarching_class\", y=\"count\", hue='combined_group', split=True)"
   ]
  },
  {
   "cell_type": "code",
   "execution_count": null,
   "id": "7147cae2",
   "metadata": {},
   "outputs": [],
   "source": [
    "sns.set(style='white', font_scale =2)\n",
    "fig, ax = plt.subplots(figsize=(10,20))\n",
    "\n",
    "sns.scatterplot('combined_group', 'overarching_class', c=overall_sum.reset_index().color,\n",
    "                s=overall_sum.fract_synapses.to_numpy()*1000, \n",
    "                legend=False,  data = overall_sum.reset_index())\n",
    "sns.despine(bottom=True)\n",
    "sns.set(rc={'figure.facecolor':(0,0,0,0)})\n",
    "figname = 'your_figname.png'"
   ]
  },
  {
   "cell_type": "code",
   "execution_count": null,
   "id": "1fa0e7cf",
   "metadata": {},
   "outputs": [],
   "source": [
    "sns.set(style='white', font_scale =2)\n",
    "fig, ax = plt.subplots(figsize=(10,20))\n",
    "\n",
    "sns.scatterplot('combined_group', 'set_class', s=sum_df.fract_synapses.to_numpy()*1000, legend=False,  data = sum_df.reset_index())\n",
    "sns.despine(bottom=True)\n",
    "sns.set(rc={'figure.facecolor':(0,0,0,0)})"
   ]
  },
  {
   "cell_type": "code",
   "execution_count": null,
   "id": "8926be5d",
   "metadata": {},
   "outputs": [],
   "source": [
    "overall_sum_by_axon = overall.groupby(['combined_group', 'pre_order', 'overarching_class']).sum().reset_index()"
   ]
  },
  {
   "cell_type": "code",
   "execution_count": null,
   "id": "904f9479",
   "metadata": {},
   "outputs": [],
   "source": [
    "sns.barplot(data=overall_sum_by_axon, x=\"pre_order\",y='count',hue='overarching_class',errwidth=0,dodge=False).set(title='Target Class by Gust-Downstream Order')"
   ]
  },
  {
   "cell_type": "markdown",
   "id": "86aa28fd",
   "metadata": {},
   "source": [
    "## Compare similarity between gust_downstream and gust_gust"
   ]
  },
  {
   "cell_type": "code",
   "execution_count": null,
   "id": "d635f076",
   "metadata": {},
   "outputs": [],
   "source": [
    "lst1_dwn= list(range(19))\n",
    "lst1_dwn = sorted([i for i in list(dct1.keys()) if (dct1[i] in lst1_dwn)])\n",
    "lst2_dwn = list(range(19,39))\n",
    "lst2_dwn = sorted([i for i in list(dct1.keys()) if (dct1[i] in lst2_dwn)])\n",
    "lst1_gust = list(range(13))\n",
    "lst1_gust = sorted([i for i in list(dct2.keys()) if (dct2[i] in lst1_gust)])\n",
    "lst2_gust = list(range(13,37))\n",
    "lst2_gust = sorted([i for i in list(dct2.keys()) if (dct2[i] in lst2_gust)])\n",
    "len(lst1_dwn), len(lst2_dwn), len(lst1_gust), len(lst2_gust)"
   ]
  },
  {
   "cell_type": "code",
   "execution_count": null,
   "id": "d22c3b15",
   "metadata": {},
   "outputs": [],
   "source": [
    "from collections import Counter"
   ]
  },
  {
   "cell_type": "code",
   "execution_count": null,
   "id": "efedb2f4",
   "metadata": {},
   "outputs": [],
   "source": [
    "def counter_cosine_similarity(c1, c2):\n",
    "    terms = set(c1).union(c2)\n",
    "    dotprod = sum(c1.get(k, 0) * c2.get(k, 0) for k in terms)\n",
    "    magA = math.sqrt(sum(c1.get(k, 0)**2 for k in terms))\n",
    "    magB = math.sqrt(sum(c2.get(k, 0)**2 for k in terms))\n",
    "    return dotprod / (magA * magB)"
   ]
  },
  {
   "attachments": {
    "image.png": {
     "image/png": "[encoded data removed]"
    }
   },
   "cell_type": "markdown",
   "id": "59b7bfbb",
   "metadata": {},
   "source": [
    "![image.png](attachment:image.png)"
   ]
  },
  {
   "cell_type": "code",
   "execution_count": null,
   "id": "d2588d1f",
   "metadata": {},
   "outputs": [],
   "source": [
    "counter_cosine_similarity(Counter(lst1_dwn), Counter(lst1_gust))"
   ]
  },
  {
   "cell_type": "code",
   "execution_count": null,
   "id": "d59381b4",
   "metadata": {},
   "outputs": [],
   "source": [
    "counter_cosine_similarity(Counter(lst1_dwn), Counter(lst2_gust))"
   ]
  },
  {
   "cell_type": "code",
   "execution_count": null,
   "id": "ba361bf8",
   "metadata": {},
   "outputs": [],
   "source": [
    "counter_cosine_similarity(Counter(lst2_dwn), Counter(lst1_gust))"
   ]
  },
  {
   "cell_type": "code",
   "execution_count": null,
   "id": "57a01c74",
   "metadata": {},
   "outputs": [],
   "source": [
    "counter_cosine_similarity(Counter(lst2_dwn), Counter(lst2_gust))"
   ]
  },
  {
   "cell_type": "code",
   "execution_count": null,
   "id": "118c2ddd",
   "metadata": {},
   "outputs": [],
   "source": [
    "counter_cosine_similarity(Counter(lst1_dwn), Counter(lst2_dwn))"
   ]
  },
  {
   "cell_type": "code",
   "execution_count": null,
   "id": "82fc621e",
   "metadata": {},
   "outputs": [],
   "source": []
  }
 ],
 "metadata": {
  "kernelspec": {
   "display_name": "Python 3 (ipykernel)",
   "language": "python",
   "name": "python3"
  },
  "language_info": {
   "codemirror_mode": {
    "name": "ipython",
    "version": 3
   },
   "file_extension": ".py",
   "mimetype": "text/x-python",
   "name": "python",
   "nbconvert_exporter": "python",
   "pygments_lexer": "ipython3",
   "version": "3.9.12"
  }
 },
 "nbformat": 4,
 "nbformat_minor": 5
}
